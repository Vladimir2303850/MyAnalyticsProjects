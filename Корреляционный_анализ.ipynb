{
  "nbformat": 4,
  "nbformat_minor": 0,
  "metadata": {
    "colab": {
      "provenance": [],
      "authorship_tag": "ABX9TyOCn9ct/k6Z7TRp6nTAbNp3",
      "include_colab_link": true
    },
    "kernelspec": {
      "name": "python3",
      "display_name": "Python 3"
    },
    "language_info": {
      "name": "python"
    }
  },
  "cells": [
    {
      "cell_type": "markdown",
      "metadata": {
        "id": "view-in-github",
        "colab_type": "text"
      },
      "source": [
        "<a href=\"https://colab.research.google.com/github/Vladimir2303850/MyAnalyticsProjects/blob/main/%D0%9A%D0%BE%D1%80%D1%80%D0%B5%D0%BB%D1%8F%D1%86%D0%B8%D0%BE%D0%BD%D0%BD%D1%8B%D0%B9_%D0%B0%D0%BD%D0%B0%D0%BB%D0%B8%D0%B7.ipynb\" target=\"_parent\"><img src=\"https://colab.research.google.com/assets/colab-badge.svg\" alt=\"Open In Colab\"/></a>"
      ]
    },
    {
      "cell_type": "markdown",
      "source": [
        "# **Задачи**\n",
        "\n",
        "Построение тепловой карты корреляционной матрицы для визуализации взаимосвязей между переменными (себестоимость продукции, стоимость сырья, заработная плата и др.).\n",
        "\n",
        "Интерпретация коэффициентов корреляции: выявление сильных, умеренных и слабых линейных зависимостей.\n",
        "\n",
        "Расчет показателей инфляции дисперсии (VIF) для определения степени мультиколлинеарности между независимыми переменными.\n",
        "\n",
        "Интерпретация значений VIF: выявление переменных с высокой (VIF > 10), умеренной (5 ≤ VIF ≤ 10) и низкой (VIF < 5) мультиколлинеарностью.\n",
        "\n",
        "Обоснование выбора линейной модели на основе отсутствия нелинейных зависимостей и логарифмического/экспоненциального роста в данных.\n",
        "\n",
        "Определение значимых независимых факторов для включения в модель.\n",
        "\n",
        "Исключение или преобразование переменных с высокой мультиколлинеарностью.\n",
        "\n",
        "Дополнительный анализ слабо коррелирующих показателей для уточнения их влияния."
      ],
      "metadata": {
        "id": "IvKqus1ehT5g"
      }
    },
    {
      "cell_type": "code",
      "execution_count": null,
      "metadata": {
        "id": "aqGTFzkwz5xd"
      },
      "outputs": [],
      "source": [
        "import pandas as pd\n",
        "import matplotlib.pyplot as plt\n",
        "import seaborn as sns\n",
        "import statsmodels.api as sm\n",
        "from statsmodels.stats.outliers_influence import variance_inflation_factor"
      ]
    },
    {
      "cell_type": "code",
      "source": [
        "df = pd.read_excel('data.xlsx')\n",
        "df.head()"
      ],
      "metadata": {
        "colab": {
          "base_uri": "https://localhost:8080/",
          "height": 206
        },
        "id": "iO9t6_ZcUyhR",
        "outputId": "a8a19274-2f05-44de-fa77-23521253e076"
      },
      "execution_count": null,
      "outputs": [
        {
          "output_type": "execute_result",
          "data": {
            "text/plain": [
              "  Себестоимость продукции Стоимость сырья Затраты на электроэнергию  \\\n",
              "0                       У              Х1                        Х2   \n",
              "1                     346             100                        22   \n",
              "2                     348             102                        24   \n",
              "3                     350             109                        26   \n",
              "4                     352             116                        28   \n",
              "\n",
              "  Заработная плата Административные расходы  \n",
              "0               Х3                       Х4  \n",
              "1               55                     18.2  \n",
              "2               60                     16.6  \n",
              "3               65                     13.1  \n",
              "4               70                       10  "
            ],
            "text/html": [
              "\n",
              "  <div id=\"df-e102e59f-5a4d-436e-8930-078f68f2613c\" class=\"colab-df-container\">\n",
              "    <div>\n",
              "<style scoped>\n",
              "    .dataframe tbody tr th:only-of-type {\n",
              "        vertical-align: middle;\n",
              "    }\n",
              "\n",
              "    .dataframe tbody tr th {\n",
              "        vertical-align: top;\n",
              "    }\n",
              "\n",
              "    .dataframe thead th {\n",
              "        text-align: right;\n",
              "    }\n",
              "</style>\n",
              "<table border=\"1\" class=\"dataframe\">\n",
              "  <thead>\n",
              "    <tr style=\"text-align: right;\">\n",
              "      <th></th>\n",
              "      <th>Себестоимость продукции</th>\n",
              "      <th>Стоимость сырья</th>\n",
              "      <th>Затраты на электроэнергию</th>\n",
              "      <th>Заработная плата</th>\n",
              "      <th>Административные расходы</th>\n",
              "    </tr>\n",
              "  </thead>\n",
              "  <tbody>\n",
              "    <tr>\n",
              "      <th>0</th>\n",
              "      <td>У</td>\n",
              "      <td>Х1</td>\n",
              "      <td>Х2</td>\n",
              "      <td>Х3</td>\n",
              "      <td>Х4</td>\n",
              "    </tr>\n",
              "    <tr>\n",
              "      <th>1</th>\n",
              "      <td>346</td>\n",
              "      <td>100</td>\n",
              "      <td>22</td>\n",
              "      <td>55</td>\n",
              "      <td>18.2</td>\n",
              "    </tr>\n",
              "    <tr>\n",
              "      <th>2</th>\n",
              "      <td>348</td>\n",
              "      <td>102</td>\n",
              "      <td>24</td>\n",
              "      <td>60</td>\n",
              "      <td>16.6</td>\n",
              "    </tr>\n",
              "    <tr>\n",
              "      <th>3</th>\n",
              "      <td>350</td>\n",
              "      <td>109</td>\n",
              "      <td>26</td>\n",
              "      <td>65</td>\n",
              "      <td>13.1</td>\n",
              "    </tr>\n",
              "    <tr>\n",
              "      <th>4</th>\n",
              "      <td>352</td>\n",
              "      <td>116</td>\n",
              "      <td>28</td>\n",
              "      <td>70</td>\n",
              "      <td>10</td>\n",
              "    </tr>\n",
              "  </tbody>\n",
              "</table>\n",
              "</div>\n",
              "    <div class=\"colab-df-buttons\">\n",
              "\n",
              "  <div class=\"colab-df-container\">\n",
              "    <button class=\"colab-df-convert\" onclick=\"convertToInteractive('df-e102e59f-5a4d-436e-8930-078f68f2613c')\"\n",
              "            title=\"Convert this dataframe to an interactive table.\"\n",
              "            style=\"display:none;\">\n",
              "\n",
              "  <svg xmlns=\"http://www.w3.org/2000/svg\" height=\"24px\" viewBox=\"0 -960 960 960\">\n",
              "    <path d=\"M120-120v-720h720v720H120Zm60-500h600v-160H180v160Zm220 220h160v-160H400v160Zm0 220h160v-160H400v160ZM180-400h160v-160H180v160Zm440 0h160v-160H620v160ZM180-180h160v-160H180v160Zm440 0h160v-160H620v160Z\"/>\n",
              "  </svg>\n",
              "    </button>\n",
              "\n",
              "  <style>\n",
              "    .colab-df-container {\n",
              "      display:flex;\n",
              "      gap: 12px;\n",
              "    }\n",
              "\n",
              "    .colab-df-convert {\n",
              "      background-color: #E8F0FE;\n",
              "      border: none;\n",
              "      border-radius: 50%;\n",
              "      cursor: pointer;\n",
              "      display: none;\n",
              "      fill: #1967D2;\n",
              "      height: 32px;\n",
              "      padding: 0 0 0 0;\n",
              "      width: 32px;\n",
              "    }\n",
              "\n",
              "    .colab-df-convert:hover {\n",
              "      background-color: #E2EBFA;\n",
              "      box-shadow: 0px 1px 2px rgba(60, 64, 67, 0.3), 0px 1px 3px 1px rgba(60, 64, 67, 0.15);\n",
              "      fill: #174EA6;\n",
              "    }\n",
              "\n",
              "    .colab-df-buttons div {\n",
              "      margin-bottom: 4px;\n",
              "    }\n",
              "\n",
              "    [theme=dark] .colab-df-convert {\n",
              "      background-color: #3B4455;\n",
              "      fill: #D2E3FC;\n",
              "    }\n",
              "\n",
              "    [theme=dark] .colab-df-convert:hover {\n",
              "      background-color: #434B5C;\n",
              "      box-shadow: 0px 1px 3px 1px rgba(0, 0, 0, 0.15);\n",
              "      filter: drop-shadow(0px 1px 2px rgba(0, 0, 0, 0.3));\n",
              "      fill: #FFFFFF;\n",
              "    }\n",
              "  </style>\n",
              "\n",
              "    <script>\n",
              "      const buttonEl =\n",
              "        document.querySelector('#df-e102e59f-5a4d-436e-8930-078f68f2613c button.colab-df-convert');\n",
              "      buttonEl.style.display =\n",
              "        google.colab.kernel.accessAllowed ? 'block' : 'none';\n",
              "\n",
              "      async function convertToInteractive(key) {\n",
              "        const element = document.querySelector('#df-e102e59f-5a4d-436e-8930-078f68f2613c');\n",
              "        const dataTable =\n",
              "          await google.colab.kernel.invokeFunction('convertToInteractive',\n",
              "                                                    [key], {});\n",
              "        if (!dataTable) return;\n",
              "\n",
              "        const docLinkHtml = 'Like what you see? Visit the ' +\n",
              "          '<a target=\"_blank\" href=https://colab.research.google.com/notebooks/data_table.ipynb>data table notebook</a>'\n",
              "          + ' to learn more about interactive tables.';\n",
              "        element.innerHTML = '';\n",
              "        dataTable['output_type'] = 'display_data';\n",
              "        await google.colab.output.renderOutput(dataTable, element);\n",
              "        const docLink = document.createElement('div');\n",
              "        docLink.innerHTML = docLinkHtml;\n",
              "        element.appendChild(docLink);\n",
              "      }\n",
              "    </script>\n",
              "  </div>\n",
              "\n",
              "\n",
              "<div id=\"df-8895f1da-f6bb-450c-9169-5334be0c5c32\">\n",
              "  <button class=\"colab-df-quickchart\" onclick=\"quickchart('df-8895f1da-f6bb-450c-9169-5334be0c5c32')\"\n",
              "            title=\"Suggest charts\"\n",
              "            style=\"display:none;\">\n",
              "\n",
              "<svg xmlns=\"http://www.w3.org/2000/svg\" height=\"24px\"viewBox=\"0 0 24 24\"\n",
              "     width=\"24px\">\n",
              "    <g>\n",
              "        <path d=\"M19 3H5c-1.1 0-2 .9-2 2v14c0 1.1.9 2 2 2h14c1.1 0 2-.9 2-2V5c0-1.1-.9-2-2-2zM9 17H7v-7h2v7zm4 0h-2V7h2v10zm4 0h-2v-4h2v4z\"/>\n",
              "    </g>\n",
              "</svg>\n",
              "  </button>\n",
              "\n",
              "<style>\n",
              "  .colab-df-quickchart {\n",
              "      --bg-color: #E8F0FE;\n",
              "      --fill-color: #1967D2;\n",
              "      --hover-bg-color: #E2EBFA;\n",
              "      --hover-fill-color: #174EA6;\n",
              "      --disabled-fill-color: #AAA;\n",
              "      --disabled-bg-color: #DDD;\n",
              "  }\n",
              "\n",
              "  [theme=dark] .colab-df-quickchart {\n",
              "      --bg-color: #3B4455;\n",
              "      --fill-color: #D2E3FC;\n",
              "      --hover-bg-color: #434B5C;\n",
              "      --hover-fill-color: #FFFFFF;\n",
              "      --disabled-bg-color: #3B4455;\n",
              "      --disabled-fill-color: #666;\n",
              "  }\n",
              "\n",
              "  .colab-df-quickchart {\n",
              "    background-color: var(--bg-color);\n",
              "    border: none;\n",
              "    border-radius: 50%;\n",
              "    cursor: pointer;\n",
              "    display: none;\n",
              "    fill: var(--fill-color);\n",
              "    height: 32px;\n",
              "    padding: 0;\n",
              "    width: 32px;\n",
              "  }\n",
              "\n",
              "  .colab-df-quickchart:hover {\n",
              "    background-color: var(--hover-bg-color);\n",
              "    box-shadow: 0 1px 2px rgba(60, 64, 67, 0.3), 0 1px 3px 1px rgba(60, 64, 67, 0.15);\n",
              "    fill: var(--button-hover-fill-color);\n",
              "  }\n",
              "\n",
              "  .colab-df-quickchart-complete:disabled,\n",
              "  .colab-df-quickchart-complete:disabled:hover {\n",
              "    background-color: var(--disabled-bg-color);\n",
              "    fill: var(--disabled-fill-color);\n",
              "    box-shadow: none;\n",
              "  }\n",
              "\n",
              "  .colab-df-spinner {\n",
              "    border: 2px solid var(--fill-color);\n",
              "    border-color: transparent;\n",
              "    border-bottom-color: var(--fill-color);\n",
              "    animation:\n",
              "      spin 1s steps(1) infinite;\n",
              "  }\n",
              "\n",
              "  @keyframes spin {\n",
              "    0% {\n",
              "      border-color: transparent;\n",
              "      border-bottom-color: var(--fill-color);\n",
              "      border-left-color: var(--fill-color);\n",
              "    }\n",
              "    20% {\n",
              "      border-color: transparent;\n",
              "      border-left-color: var(--fill-color);\n",
              "      border-top-color: var(--fill-color);\n",
              "    }\n",
              "    30% {\n",
              "      border-color: transparent;\n",
              "      border-left-color: var(--fill-color);\n",
              "      border-top-color: var(--fill-color);\n",
              "      border-right-color: var(--fill-color);\n",
              "    }\n",
              "    40% {\n",
              "      border-color: transparent;\n",
              "      border-right-color: var(--fill-color);\n",
              "      border-top-color: var(--fill-color);\n",
              "    }\n",
              "    60% {\n",
              "      border-color: transparent;\n",
              "      border-right-color: var(--fill-color);\n",
              "    }\n",
              "    80% {\n",
              "      border-color: transparent;\n",
              "      border-right-color: var(--fill-color);\n",
              "      border-bottom-color: var(--fill-color);\n",
              "    }\n",
              "    90% {\n",
              "      border-color: transparent;\n",
              "      border-bottom-color: var(--fill-color);\n",
              "    }\n",
              "  }\n",
              "</style>\n",
              "\n",
              "  <script>\n",
              "    async function quickchart(key) {\n",
              "      const quickchartButtonEl =\n",
              "        document.querySelector('#' + key + ' button');\n",
              "      quickchartButtonEl.disabled = true;  // To prevent multiple clicks.\n",
              "      quickchartButtonEl.classList.add('colab-df-spinner');\n",
              "      try {\n",
              "        const charts = await google.colab.kernel.invokeFunction(\n",
              "            'suggestCharts', [key], {});\n",
              "      } catch (error) {\n",
              "        console.error('Error during call to suggestCharts:', error);\n",
              "      }\n",
              "      quickchartButtonEl.classList.remove('colab-df-spinner');\n",
              "      quickchartButtonEl.classList.add('colab-df-quickchart-complete');\n",
              "    }\n",
              "    (() => {\n",
              "      let quickchartButtonEl =\n",
              "        document.querySelector('#df-8895f1da-f6bb-450c-9169-5334be0c5c32 button');\n",
              "      quickchartButtonEl.style.display =\n",
              "        google.colab.kernel.accessAllowed ? 'block' : 'none';\n",
              "    })();\n",
              "  </script>\n",
              "</div>\n",
              "    </div>\n",
              "  </div>\n"
            ],
            "application/vnd.google.colaboratory.intrinsic+json": {
              "type": "dataframe",
              "variable_name": "df",
              "summary": "{\n  \"name\": \"df\",\n  \"rows\": 20,\n  \"fields\": [\n    {\n      \"column\": \"\\u0421\\u0435\\u0431\\u0435\\u0441\\u0442\\u043e\\u0438\\u043c\\u043e\\u0441\\u0442\\u044c \\u043f\\u0440\\u043e\\u0434\\u0443\\u043a\\u0446\\u0438\\u0438\",\n      \"properties\": {\n        \"dtype\": \"string\",\n        \"num_unique_values\": 20,\n        \"samples\": [\n          \"\\u0423\",\n          378,\n          374\n        ],\n        \"semantic_type\": \"\",\n        \"description\": \"\"\n      }\n    },\n    {\n      \"column\": \"\\u0421\\u0442\\u043e\\u0438\\u043c\\u043e\\u0441\\u0442\\u044c \\u0441\\u044b\\u0440\\u044c\\u044f\",\n      \"properties\": {\n        \"dtype\": \"string\",\n        \"num_unique_values\": 20,\n        \"samples\": [\n          \"\\u04251\",\n          207,\n          193\n        ],\n        \"semantic_type\": \"\",\n        \"description\": \"\"\n      }\n    },\n    {\n      \"column\": \"\\u0417\\u0430\\u0442\\u0440\\u0430\\u0442\\u044b \\u043d\\u0430 \\u044d\\u043b\\u0435\\u043a\\u0442\\u0440\\u043e\\u044d\\u043d\\u0435\\u0440\\u0433\\u0438\\u044e\",\n      \"properties\": {\n        \"dtype\": \"string\",\n        \"num_unique_values\": 11,\n        \"samples\": [\n          30,\n          \"\\u04252\",\n          38\n        ],\n        \"semantic_type\": \"\",\n        \"description\": \"\"\n      }\n    },\n    {\n      \"column\": \"\\u0417\\u0430\\u0440\\u0430\\u0431\\u043e\\u0442\\u043d\\u0430\\u044f \\u043f\\u043b\\u0430\\u0442\\u0430\",\n      \"properties\": {\n        \"dtype\": \"string\",\n        \"num_unique_values\": 20,\n        \"samples\": [\n          \"\\u04253\",\n          107.10000000000004,\n          104.30000000000003\n        ],\n        \"semantic_type\": \"\",\n        \"description\": \"\"\n      }\n    },\n    {\n      \"column\": \"\\u0410\\u0434\\u043c\\u0438\\u043d\\u0438\\u0441\\u0442\\u0440\\u0430\\u0442\\u0438\\u0432\\u043d\\u044b\\u0435 \\u0440\\u0430\\u0441\\u0445\\u043e\\u0434\\u044b\",\n      \"properties\": {\n        \"dtype\": \"category\",\n        \"num_unique_values\": 7,\n        \"samples\": [\n          \"\\u04254\",\n          18.2,\n          11.3\n        ],\n        \"semantic_type\": \"\",\n        \"description\": \"\"\n      }\n    }\n  ]\n}"
            }
          },
          "metadata": {},
          "execution_count": 2
        }
      ]
    },
    {
      "cell_type": "markdown",
      "source": [
        "**Построение корреляционной матрицы**"
      ],
      "metadata": {
        "id": "PEIhTiC4UskC"
      }
    },
    {
      "cell_type": "code",
      "source": [
        "data = pd.read_excel(\"data.xlsx\", header=0, skiprows=[1])\n",
        "corr_matrix = data.corr()\n",
        "sns.heatmap(corr_matrix, annot=True, cmap='coolwarm', center=0)\n",
        "plt.title('Корреляционная матрица')\n",
        "plt.show()"
      ],
      "metadata": {
        "colab": {
          "base_uri": "https://localhost:8080/",
          "height": 649
        },
        "id": "BYLPgPch5n4L",
        "outputId": "7ee3400c-ed95-436a-8f75-96951dfc4eda"
      },
      "execution_count": null,
      "outputs": [
        {
          "output_type": "display_data",
          "data": {
            "text/plain": [
              "<Figure size 640x480 with 2 Axes>"
            ],
            "image/png": "[encoded data removed]"
          },
          "metadata": {}
        }
      ]
    },
    {
      "cell_type": "markdown",
      "source": [
        "Корреляционная матрица показывает несколько важных закономерностей в данных. Наибольший интерес вызывает практически полная линейная зависимость (корреляция = 1.0) между себестоимостью продукции и стоимостью сырья. Это означает, что эти переменные содержат идентичную информацию, и включать обе в модель нецелесообразно из-за сильной мультиколлинеарности. Аналогичная ситуация наблюдается с заработной платой, которая демонстрирует очень высокую корреляцию (0.95-0.96) как с себестоимостью, так и со стоимостью сырья.\n",
        "\n",
        "Затраты на электроэнергию показывают умеренную корреляцию (0.45) только с заработной платой, в то время как их связь с другими показателями слабая (0.28-0.29). Это делает их потенциально полезными для модели, так как они несут уникальную информацию. Особого внимания заслуживают административные расходы, которые практически не коррелируют с другими показателями (коэффициенты от -0.27 до -0.065), что может указывать на их независимый характер или необходимость поиска других факторов влияния.\n",
        "\n",
        "Особую тревогу вызывает значение -1.0 в последнем столбце для себестоимости продукции, которое может указывать либо на ошибку в данных, либо на наличие неучтенного параметра с идеальной отрицательной корреляцией. Этот момент требует дополнительной проверки."
      ],
      "metadata": {
        "id": "1PEngS5MWD9F"
      }
    },
    {
      "cell_type": "code",
      "source": [
        "import pandas as pd\n",
        "import statsmodels.api as sm\n",
        "from statsmodels.stats.outliers_influence import variance_inflation_factor\n",
        "\n",
        "data_with_constant = sm.add_constant(data)\n",
        "vifs = []\n",
        "for i in range(1, len(data.columns)):\n",
        "    vif = variance_inflation_factor(data_with_constant.values, i)\n",
        "    vifs.append(vif)\n",
        "\n",
        "print(\"Variance Inflation Factor\")\n",
        "for idx, vif in enumerate(vifs):\n",
        "    print(f\"VIF для {data.columns[idx]}: {round(vif, 2)}\")"
      ],
      "metadata": {
        "colab": {
          "base_uri": "https://localhost:8080/"
        },
        "id": "00QcFtC17Oo7",
        "outputId": "f89925bb-9485-4b88-c4cf-3a934c77b901"
      },
      "execution_count": null,
      "outputs": [
        {
          "output_type": "stream",
          "name": "stdout",
          "text": [
            "Variance Inflation Factor\n",
            "VIF для Себестоимость продукции: 1879.38\n",
            "VIF для Стоимость сырья: 1753.56\n",
            "VIF для Затраты на электроэнергию: 1.85\n",
            "VIF для Заработная плата: 21.77\n"
          ]
        }
      ]
    },
    {
      "cell_type": "markdown",
      "source": [
        "Значения VIF (фактора инфляции дисперсии) для показателей \"Себестоимость продукции\", \"Стоимость сырья\" и \"Заработная плата\" превышают критический порог в 10, что однозначно свидетельствует о наличии серьезной мультиколлинеарности между этими переменными. Это создает существенные сложности для интерпретации их индивидуального вклада в зависимую переменную, так как их влияние оказывается статистически неразличимым. В то же время показатель \"Затраты на электроэнергию\" демонстрирует приемлемый уровень VIF (менее 5), что позволяет рассматривать его как независимый фактор в модели. Анализ характера взаимосвязей между переменными не выявил признаков нелинейных зависимостей или логарифмического/экспоненциального роста, что делает применение сложных нелинейных моделей или обобщенных линейных моделей (GLM) неоправданным."
      ],
      "metadata": {
        "id": "BrMT_A2BWvS-"
      }
    },
    {
      "cell_type": "markdown",
      "source": [
        "\n",
        "\n",
        "> **Вывод**\n",
        "\n",
        ">  В данных преобладают линейные зависимости, что подтверждает целесообразность использования классической линейной регрессии. Особого внимания заслуживает анализ корреляционной матрицы. Наблюдается практически полная линейная зависимость (r=1.0) между себестоимостью продукции и стоимостью сырья, а также чрезвычайно высокая корреляция (0.95-0.96) этих показателей с заработной платой. При этом затраты на электроэнергию демонстрируют умеренную корреляцию только с заработной платой (0.45), а административные расходы вообще слабо связаны с другими показателями (коэффициенты от -0.27 до -0.065).\n",
        "\n",
        "\n",
        "\n",
        "> **Рекомендации:**\n",
        "\n",
        "> Провести дополнительный анализ для устранения мультиколлинеарности (например, исключить одну из коррелированных переменных или использовать PCA).\n",
        "\n",
        "> Убедиться, что линейная модель действительно хорошо описывает данные, проверив остатки на гомоскедастичность и нормальность.\n",
        "\n",
        "> Если мультиколлинеарность сильно влияет на результаты, рассмотреть возможность использования Ridge или Lasso регрессии, которые могут помочь в таких случаях.\n",
        "\n"
      ],
      "metadata": {
        "id": "5CtkWkCzWfg6"
      }
    }
  ]
}
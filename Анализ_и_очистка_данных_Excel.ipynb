{
  "nbformat": 4,
  "nbformat_minor": 0,
  "metadata": {
    "colab": {
      "provenance": [],
      "authorship_tag": "ABX9TyOPvOBelgNrqUmuZPBFaz6h",
      "include_colab_link": true
    },
    "kernelspec": {
      "name": "python3",
      "display_name": "Python 3"
    },
    "language_info": {
      "name": "python"
    }
  },
  "cells": [
    {
      "cell_type": "markdown",
      "metadata": {
        "id": "view-in-github",
        "colab_type": "text"
      },
      "source": [
        "<a href=\"https://colab.research.google.com/github/Vladimir2303850/MyAnalyticsProjects/blob/main/%D0%90%D0%BD%D0%B0%D0%BB%D0%B8%D0%B7_%D0%B8_%D0%BE%D1%87%D0%B8%D1%81%D1%82%D0%BA%D0%B0_%D0%B4%D0%B0%D0%BD%D0%BD%D1%8B%D1%85_Excel.ipynb\" target=\"_parent\"><img src=\"https://colab.research.google.com/assets/colab-badge.svg\" alt=\"Open In Colab\"/></a>"
      ]
    },
    {
      "cell_type": "markdown",
      "source": [
        "# **Задачи**\n",
        "\n",
        "Загрузить исходную выборку данных в датафрейм для последующего анализа.\n",
        "\n",
        "Изучить структуру данных, вывести первые строки датафрейма.\n",
        "\n",
        "Определить количество ненулевых значений в столбцах для выявления пропусков.\n",
        "\n",
        "Удалить лишние столбцы.\n",
        "\n",
        "Заполнить пропущенные значения средними по соответствующим столбцам.\n",
        "\n",
        "Выявить выбросы в числовых столбцах с помощью межквартильного размаха (IQR).\n",
        "\n",
        "Удалить строки с выбросами для улучшения качества данных.\n",
        "\n",
        "Сравнить основные статистические показатели (среднее, минимум, максимум) до и после обработки данных.\n",
        "\n",
        "Подготовить датафрейм для дальнейшего статистического анализа и принятия решений."
      ],
      "metadata": {
        "id": "inQoFOEYdtGJ"
      }
    },
    {
      "cell_type": "code",
      "execution_count": null,
      "metadata": {
        "id": "eX2z7KvbmABz"
      },
      "outputs": [],
      "source": [
        "import pandas as pd"
      ]
    },
    {
      "cell_type": "code",
      "source": [
        "df_excel = pd.read_excel('data.xlsx')\n",
        "df_excel.head()"
      ],
      "metadata": {
        "id": "rDrTYf5PmMjK",
        "colab": {
          "base_uri": "https://localhost:8080/",
          "height": 206
        },
        "outputId": "5dfc34c1-d67c-4d78-f734-fb65f4100fa7"
      },
      "execution_count": null,
      "outputs": [
        {
          "output_type": "execute_result",
          "data": {
            "text/plain": [
              "   ID  Возраст  Зарплата  Балл            Город\n",
              "0   1     25.0   50000.0  85.0           Москва\n",
              "1   2     30.0   70000.0  90.0  Санкт-Петербург\n",
              "2   3      NaN       NaN   NaN     Екатеринбург\n",
              "3   4     22.0   30000.0  78.0           Казань\n",
              "4   5     40.0  150000.0  95.0      Новосибирск"
            ],
            "text/html": [
              "\n",
              "  <div id=\"df-30c14893-a45e-48ba-9db1-8f8ab4a9ed0c\" class=\"colab-df-container\">\n",
              "    <div>\n",
              "<style scoped>\n",
              "    .dataframe tbody tr th:only-of-type {\n",
              "        vertical-align: middle;\n",
              "    }\n",
              "\n",
              "    .dataframe tbody tr th {\n",
              "        vertical-align: top;\n",
              "    }\n",
              "\n",
              "    .dataframe thead th {\n",
              "        text-align: right;\n",
              "    }\n",
              "</style>\n",
              "<table border=\"1\" class=\"dataframe\">\n",
              "  <thead>\n",
              "    <tr style=\"text-align: right;\">\n",
              "      <th></th>\n",
              "      <th>ID</th>\n",
              "      <th>Возраст</th>\n",
              "      <th>Зарплата</th>\n",
              "      <th>Балл</th>\n",
              "      <th>Город</th>\n",
              "    </tr>\n",
              "  </thead>\n",
              "  <tbody>\n",
              "    <tr>\n",
              "      <th>0</th>\n",
              "      <td>1</td>\n",
              "      <td>25.0</td>\n",
              "      <td>50000.0</td>\n",
              "      <td>85.0</td>\n",
              "      <td>Москва</td>\n",
              "    </tr>\n",
              "    <tr>\n",
              "      <th>1</th>\n",
              "      <td>2</td>\n",
              "      <td>30.0</td>\n",
              "      <td>70000.0</td>\n",
              "      <td>90.0</td>\n",
              "      <td>Санкт-Петербург</td>\n",
              "    </tr>\n",
              "    <tr>\n",
              "      <th>2</th>\n",
              "      <td>3</td>\n",
              "      <td>NaN</td>\n",
              "      <td>NaN</td>\n",
              "      <td>NaN</td>\n",
              "      <td>Екатеринбург</td>\n",
              "    </tr>\n",
              "    <tr>\n",
              "      <th>3</th>\n",
              "      <td>4</td>\n",
              "      <td>22.0</td>\n",
              "      <td>30000.0</td>\n",
              "      <td>78.0</td>\n",
              "      <td>Казань</td>\n",
              "    </tr>\n",
              "    <tr>\n",
              "      <th>4</th>\n",
              "      <td>5</td>\n",
              "      <td>40.0</td>\n",
              "      <td>150000.0</td>\n",
              "      <td>95.0</td>\n",
              "      <td>Новосибирск</td>\n",
              "    </tr>\n",
              "  </tbody>\n",
              "</table>\n",
              "</div>\n",
              "    <div class=\"colab-df-buttons\">\n",
              "\n",
              "  <div class=\"colab-df-container\">\n",
              "    <button class=\"colab-df-convert\" onclick=\"convertToInteractive('df-30c14893-a45e-48ba-9db1-8f8ab4a9ed0c')\"\n",
              "            title=\"Convert this dataframe to an interactive table.\"\n",
              "            style=\"display:none;\">\n",
              "\n",
              "  <svg xmlns=\"http://www.w3.org/2000/svg\" height=\"24px\" viewBox=\"0 -960 960 960\">\n",
              "    <path d=\"M120-120v-720h720v720H120Zm60-500h600v-160H180v160Zm220 220h160v-160H400v160Zm0 220h160v-160H400v160ZM180-400h160v-160H180v160Zm440 0h160v-160H620v160ZM180-180h160v-160H180v160Zm440 0h160v-160H620v160Z\"/>\n",
              "  </svg>\n",
              "    </button>\n",
              "\n",
              "  <style>\n",
              "    .colab-df-container {\n",
              "      display:flex;\n",
              "      gap: 12px;\n",
              "    }\n",
              "\n",
              "    .colab-df-convert {\n",
              "      background-color: #E8F0FE;\n",
              "      border: none;\n",
              "      border-radius: 50%;\n",
              "      cursor: pointer;\n",
              "      display: none;\n",
              "      fill: #1967D2;\n",
              "      height: 32px;\n",
              "      padding: 0 0 0 0;\n",
              "      width: 32px;\n",
              "    }\n",
              "\n",
              "    .colab-df-convert:hover {\n",
              "      background-color: #E2EBFA;\n",
              "      box-shadow: 0px 1px 2px rgba(60, 64, 67, 0.3), 0px 1px 3px 1px rgba(60, 64, 67, 0.15);\n",
              "      fill: #174EA6;\n",
              "    }\n",
              "\n",
              "    .colab-df-buttons div {\n",
              "      margin-bottom: 4px;\n",
              "    }\n",
              "\n",
              "    [theme=dark] .colab-df-convert {\n",
              "      background-color: #3B4455;\n",
              "      fill: #D2E3FC;\n",
              "    }\n",
              "\n",
              "    [theme=dark] .colab-df-convert:hover {\n",
              "      background-color: #434B5C;\n",
              "      box-shadow: 0px 1px 3px 1px rgba(0, 0, 0, 0.15);\n",
              "      filter: drop-shadow(0px 1px 2px rgba(0, 0, 0, 0.3));\n",
              "      fill: #FFFFFF;\n",
              "    }\n",
              "  </style>\n",
              "\n",
              "    <script>\n",
              "      const buttonEl =\n",
              "        document.querySelector('#df-30c14893-a45e-48ba-9db1-8f8ab4a9ed0c button.colab-df-convert');\n",
              "      buttonEl.style.display =\n",
              "        google.colab.kernel.accessAllowed ? 'block' : 'none';\n",
              "\n",
              "      async function convertToInteractive(key) {\n",
              "        const element = document.querySelector('#df-30c14893-a45e-48ba-9db1-8f8ab4a9ed0c');\n",
              "        const dataTable =\n",
              "          await google.colab.kernel.invokeFunction('convertToInteractive',\n",
              "                                                    [key], {});\n",
              "        if (!dataTable) return;\n",
              "\n",
              "        const docLinkHtml = 'Like what you see? Visit the ' +\n",
              "          '<a target=\"_blank\" href=https://colab.research.google.com/notebooks/data_table.ipynb>data table notebook</a>'\n",
              "          + ' to learn more about interactive tables.';\n",
              "        element.innerHTML = '';\n",
              "        dataTable['output_type'] = 'display_data';\n",
              "        await google.colab.output.renderOutput(dataTable, element);\n",
              "        const docLink = document.createElement('div');\n",
              "        docLink.innerHTML = docLinkHtml;\n",
              "        element.appendChild(docLink);\n",
              "      }\n",
              "    </script>\n",
              "  </div>\n",
              "\n",
              "\n",
              "<div id=\"df-4c6dd7d7-b9f3-45ba-97a6-4ff49de937a2\">\n",
              "  <button class=\"colab-df-quickchart\" onclick=\"quickchart('df-4c6dd7d7-b9f3-45ba-97a6-4ff49de937a2')\"\n",
              "            title=\"Suggest charts\"\n",
              "            style=\"display:none;\">\n",
              "\n",
              "<svg xmlns=\"http://www.w3.org/2000/svg\" height=\"24px\"viewBox=\"0 0 24 24\"\n",
              "     width=\"24px\">\n",
              "    <g>\n",
              "        <path d=\"M19 3H5c-1.1 0-2 .9-2 2v14c0 1.1.9 2 2 2h14c1.1 0 2-.9 2-2V5c0-1.1-.9-2-2-2zM9 17H7v-7h2v7zm4 0h-2V7h2v10zm4 0h-2v-4h2v4z\"/>\n",
              "    </g>\n",
              "</svg>\n",
              "  </button>\n",
              "\n",
              "<style>\n",
              "  .colab-df-quickchart {\n",
              "      --bg-color: #E8F0FE;\n",
              "      --fill-color: #1967D2;\n",
              "      --hover-bg-color: #E2EBFA;\n",
              "      --hover-fill-color: #174EA6;\n",
              "      --disabled-fill-color: #AAA;\n",
              "      --disabled-bg-color: #DDD;\n",
              "  }\n",
              "\n",
              "  [theme=dark] .colab-df-quickchart {\n",
              "      --bg-color: #3B4455;\n",
              "      --fill-color: #D2E3FC;\n",
              "      --hover-bg-color: #434B5C;\n",
              "      --hover-fill-color: #FFFFFF;\n",
              "      --disabled-bg-color: #3B4455;\n",
              "      --disabled-fill-color: #666;\n",
              "  }\n",
              "\n",
              "  .colab-df-quickchart {\n",
              "    background-color: var(--bg-color);\n",
              "    border: none;\n",
              "    border-radius: 50%;\n",
              "    cursor: pointer;\n",
              "    display: none;\n",
              "    fill: var(--fill-color);\n",
              "    height: 32px;\n",
              "    padding: 0;\n",
              "    width: 32px;\n",
              "  }\n",
              "\n",
              "  .colab-df-quickchart:hover {\n",
              "    background-color: var(--hover-bg-color);\n",
              "    box-shadow: 0 1px 2px rgba(60, 64, 67, 0.3), 0 1px 3px 1px rgba(60, 64, 67, 0.15);\n",
              "    fill: var(--button-hover-fill-color);\n",
              "  }\n",
              "\n",
              "  .colab-df-quickchart-complete:disabled,\n",
              "  .colab-df-quickchart-complete:disabled:hover {\n",
              "    background-color: var(--disabled-bg-color);\n",
              "    fill: var(--disabled-fill-color);\n",
              "    box-shadow: none;\n",
              "  }\n",
              "\n",
              "  .colab-df-spinner {\n",
              "    border: 2px solid var(--fill-color);\n",
              "    border-color: transparent;\n",
              "    border-bottom-color: var(--fill-color);\n",
              "    animation:\n",
              "      spin 1s steps(1) infinite;\n",
              "  }\n",
              "\n",
              "  @keyframes spin {\n",
              "    0% {\n",
              "      border-color: transparent;\n",
              "      border-bottom-color: var(--fill-color);\n",
              "      border-left-color: var(--fill-color);\n",
              "    }\n",
              "    20% {\n",
              "      border-color: transparent;\n",
              "      border-left-color: var(--fill-color);\n",
              "      border-top-color: var(--fill-color);\n",
              "    }\n",
              "    30% {\n",
              "      border-color: transparent;\n",
              "      border-left-color: var(--fill-color);\n",
              "      border-top-color: var(--fill-color);\n",
              "      border-right-color: var(--fill-color);\n",
              "    }\n",
              "    40% {\n",
              "      border-color: transparent;\n",
              "      border-right-color: var(--fill-color);\n",
              "      border-top-color: var(--fill-color);\n",
              "    }\n",
              "    60% {\n",
              "      border-color: transparent;\n",
              "      border-right-color: var(--fill-color);\n",
              "    }\n",
              "    80% {\n",
              "      border-color: transparent;\n",
              "      border-right-color: var(--fill-color);\n",
              "      border-bottom-color: var(--fill-color);\n",
              "    }\n",
              "    90% {\n",
              "      border-color: transparent;\n",
              "      border-bottom-color: var(--fill-color);\n",
              "    }\n",
              "  }\n",
              "</style>\n",
              "\n",
              "  <script>\n",
              "    async function quickchart(key) {\n",
              "      const quickchartButtonEl =\n",
              "        document.querySelector('#' + key + ' button');\n",
              "      quickchartButtonEl.disabled = true;  // To prevent multiple clicks.\n",
              "      quickchartButtonEl.classList.add('colab-df-spinner');\n",
              "      try {\n",
              "        const charts = await google.colab.kernel.invokeFunction(\n",
              "            'suggestCharts', [key], {});\n",
              "      } catch (error) {\n",
              "        console.error('Error during call to suggestCharts:', error);\n",
              "      }\n",
              "      quickchartButtonEl.classList.remove('colab-df-spinner');\n",
              "      quickchartButtonEl.classList.add('colab-df-quickchart-complete');\n",
              "    }\n",
              "    (() => {\n",
              "      let quickchartButtonEl =\n",
              "        document.querySelector('#df-4c6dd7d7-b9f3-45ba-97a6-4ff49de937a2 button');\n",
              "      quickchartButtonEl.style.display =\n",
              "        google.colab.kernel.accessAllowed ? 'block' : 'none';\n",
              "    })();\n",
              "  </script>\n",
              "</div>\n",
              "    </div>\n",
              "  </div>\n"
            ],
            "application/vnd.google.colaboratory.intrinsic+json": {
              "type": "dataframe",
              "variable_name": "df_excel",
              "summary": "{\n  \"name\": \"df_excel\",\n  \"rows\": 20,\n  \"fields\": [\n    {\n      \"column\": \"ID\",\n      \"properties\": {\n        \"dtype\": \"number\",\n        \"std\": 5,\n        \"min\": 1,\n        \"max\": 20,\n        \"num_unique_values\": 20,\n        \"samples\": [\n          1,\n          18,\n          16\n        ],\n        \"semantic_type\": \"\",\n        \"description\": \"\"\n      }\n    },\n    {\n      \"column\": \"\\u0412\\u043e\\u0437\\u0440\\u0430\\u0441\\u0442\",\n      \"properties\": {\n        \"dtype\": \"number\",\n        \"std\": 7.578510640581812,\n        \"min\": 22.0,\n        \"max\": 50.0,\n        \"num_unique_values\": 16,\n        \"samples\": [\n          25.0,\n          30.0,\n          35.0\n        ],\n        \"semantic_type\": \"\",\n        \"description\": \"\"\n      }\n    },\n    {\n      \"column\": \"\\u0417\\u0430\\u0440\\u043f\\u043b\\u0430\\u0442\\u0430\",\n      \"properties\": {\n        \"dtype\": \"number\",\n        \"std\": 246792.3852993223,\n        \"min\": -15000.0,\n        \"max\": 999999.0,\n        \"num_unique_values\": 16,\n        \"samples\": [\n          50000.0,\n          70000.0,\n          60000.0\n        ],\n        \"semantic_type\": \"\",\n        \"description\": \"\"\n      }\n    },\n    {\n      \"column\": \"\\u0411\\u0430\\u043b\\u043b\",\n      \"properties\": {\n        \"dtype\": \"number\",\n        \"std\": 7.234178138070235,\n        \"min\": 75.0,\n        \"max\": 100.0,\n        \"num_unique_values\": 14,\n        \"samples\": [\n          92.0,\n          82.0,\n          85.0\n        ],\n        \"semantic_type\": \"\",\n        \"description\": \"\"\n      }\n    },\n    {\n      \"column\": \"\\u0413\\u043e\\u0440\\u043e\\u0434\",\n      \"properties\": {\n        \"dtype\": \"string\",\n        \"num_unique_values\": 16,\n        \"samples\": [\n          \"\\u041c\\u043e\\u0441\\u043a\\u0432\\u0430\",\n          \"\\u0421\\u0430\\u043d\\u043a\\u0442-\\u041f\\u0435\\u0442\\u0435\\u0440\\u0431\\u0443\\u0440\\u0433\",\n          \"\\u041e\\u043c\\u0441\\u043a\"\n        ],\n        \"semantic_type\": \"\",\n        \"description\": \"\"\n      }\n    }\n  ]\n}"
            }
          },
          "metadata": {},
          "execution_count": 3
        }
      ]
    },
    {
      "cell_type": "markdown",
      "source": [
        "**Количество записей**"
      ],
      "metadata": {
        "id": "OB-zzApDD_Ds"
      }
    },
    {
      "cell_type": "code",
      "source": [
        "count = df_excel.count()\n",
        "print(count)"
      ],
      "metadata": {
        "id": "QDagh_m9mo7O",
        "colab": {
          "base_uri": "https://localhost:8080/"
        },
        "outputId": "de0ee0dd-20df-4b4a-d85b-fffb3063eee8"
      },
      "execution_count": null,
      "outputs": [
        {
          "output_type": "stream",
          "name": "stdout",
          "text": [
            "ID          20\n",
            "Возраст     17\n",
            "Зарплата    16\n",
            "Балл        16\n",
            "Город       19\n",
            "dtype: int64\n"
          ]
        }
      ]
    },
    {
      "cell_type": "markdown",
      "source": [
        "**Максимальные значения**"
      ],
      "metadata": {
        "id": "47KhJfsSECU4"
      }
    },
    {
      "cell_type": "code",
      "source": [
        "numerical_columns = df_excel.select_dtypes(include='number')\n",
        "max_df = numerical_columns.max()\n",
        "print(max_df)"
      ],
      "metadata": {
        "colab": {
          "base_uri": "https://localhost:8080/"
        },
        "id": "_lFezuienIDk",
        "outputId": "5019e674-359a-4e4a-f146-6300d3154b6e"
      },
      "execution_count": null,
      "outputs": [
        {
          "output_type": "stream",
          "name": "stdout",
          "text": [
            "ID              20.0\n",
            "Возраст         50.0\n",
            "Зарплата    999999.0\n",
            "Балл           100.0\n",
            "dtype: float64\n"
          ]
        }
      ]
    },
    {
      "cell_type": "markdown",
      "source": [
        "**Минимальные значения**"
      ],
      "metadata": {
        "id": "6F50LxOFEFQC"
      }
    },
    {
      "cell_type": "code",
      "source": [
        "min_df = numerical_columns.min()\n",
        "print(min_df)"
      ],
      "metadata": {
        "colab": {
          "base_uri": "https://localhost:8080/"
        },
        "id": "NM-d_XNanN0S",
        "outputId": "3c98f33d-7ed8-4511-a952-8af3554b1c35"
      },
      "execution_count": null,
      "outputs": [
        {
          "output_type": "stream",
          "name": "stdout",
          "text": [
            "ID              1.0\n",
            "Возраст        22.0\n",
            "Зарплата   -15000.0\n",
            "Балл           75.0\n",
            "dtype: float64\n"
          ]
        }
      ]
    },
    {
      "cell_type": "markdown",
      "source": [
        "**Средние значения**"
      ],
      "metadata": {
        "id": "CnW5XBxFEOWm"
      }
    },
    {
      "cell_type": "code",
      "source": [
        "avg_df = numerical_columns.mean()\n",
        "print(avg_df)"
      ],
      "metadata": {
        "colab": {
          "base_uri": "https://localhost:8080/"
        },
        "id": "__wjN8e7oXKB",
        "outputId": "4014d660-eb89-4170-c6bf-6afb3e7cb52f"
      },
      "execution_count": null,
      "outputs": [
        {
          "output_type": "stream",
          "name": "stdout",
          "text": [
            "ID              10.500000\n",
            "Возраст         32.058824\n",
            "Зарплата    142062.437500\n",
            "Балл            86.750000\n",
            "dtype: float64\n"
          ]
        }
      ]
    },
    {
      "cell_type": "markdown",
      "source": [
        "**Обработка пропусков**"
      ],
      "metadata": {
        "id": "doj9NAoDEStr"
      }
    },
    {
      "cell_type": "code",
      "source": [
        "df_fillavg = df_excel.select_dtypes(include='number')\n",
        "df_fillavg = df_fillavg.drop(columns='ID')\n",
        "print(df_fillavg)"
      ],
      "metadata": {
        "id": "ZMT9-_4kuNDU",
        "colab": {
          "base_uri": "https://localhost:8080/"
        },
        "outputId": "bf073601-314b-4b68-d5cc-03160edf89b3"
      },
      "execution_count": null,
      "outputs": [
        {
          "output_type": "stream",
          "name": "stdout",
          "text": [
            "    Возраст  Зарплата   Балл\n",
            "0      25.0   50000.0   85.0\n",
            "1      30.0   70000.0   90.0\n",
            "2       NaN       NaN    NaN\n",
            "3      22.0   30000.0   78.0\n",
            "4      40.0  150000.0   95.0\n",
            "5      28.0   48000.0   88.0\n",
            "6      35.0   60000.0   84.0\n",
            "7       NaN       NaN    NaN\n",
            "8      45.0  999999.0  100.0\n",
            "9      32.0  -15000.0   76.0\n",
            "10     29.0   54000.0   75.0\n",
            "11     27.0   52000.0   88.0\n",
            "12     50.0  120000.0   92.0\n",
            "13      NaN       NaN    NaN\n",
            "14     31.0   65000.0   89.0\n",
            "15     26.0   47000.0   82.0\n",
            "16     38.0  400000.0   95.0\n",
            "17     24.0   32000.0   80.0\n",
            "18     29.0  110000.0   91.0\n",
            "19     34.0       NaN    NaN\n"
          ]
        }
      ]
    },
    {
      "cell_type": "code",
      "source": [
        "mean_values = df_fillavg.mean()\n",
        "df_fillavg.fillna(mean_values, inplace=True)\n",
        "print(df_fillavg)"
      ],
      "metadata": {
        "colab": {
          "base_uri": "https://localhost:8080/"
        },
        "id": "gvUTwIa-pRLn",
        "outputId": "7da7ea5e-56aa-4d6e-d3d1-044bffc24c5c"
      },
      "execution_count": null,
      "outputs": [
        {
          "output_type": "stream",
          "name": "stdout",
          "text": [
            "      Возраст     Зарплата    Балл\n",
            "0   25.000000   50000.0000   85.00\n",
            "1   30.000000   70000.0000   90.00\n",
            "2   32.058824  142062.4375   86.75\n",
            "3   22.000000   30000.0000   78.00\n",
            "4   40.000000  150000.0000   95.00\n",
            "5   28.000000   48000.0000   88.00\n",
            "6   35.000000   60000.0000   84.00\n",
            "7   32.058824  142062.4375   86.75\n",
            "8   45.000000  999999.0000  100.00\n",
            "9   32.000000  -15000.0000   76.00\n",
            "10  29.000000   54000.0000   75.00\n",
            "11  27.000000   52000.0000   88.00\n",
            "12  50.000000  120000.0000   92.00\n",
            "13  32.058824  142062.4375   86.75\n",
            "14  31.000000   65000.0000   89.00\n",
            "15  26.000000   47000.0000   82.00\n",
            "16  38.000000  400000.0000   95.00\n",
            "17  24.000000   32000.0000   80.00\n",
            "18  29.000000  110000.0000   91.00\n",
            "19  34.000000  142062.4375   86.75\n"
          ]
        }
      ]
    },
    {
      "cell_type": "markdown",
      "source": [
        "**Удаление выбросов с помощью метода межквартильного размаха**"
      ],
      "metadata": {
        "id": "4DTwBtlHEZ0_"
      }
    },
    {
      "cell_type": "code",
      "source": [
        "def remove_outliers(df):\n",
        "    df_cleaned = df.copy()\n",
        "    for column in df.select_dtypes(include=['number']):\n",
        "        Q1 = df[column].quantile(0.25)\n",
        "        Q3 = df[column].quantile(0.75)\n",
        "        IQR = Q3 - Q1\n",
        "        lower_bound = Q1 - 1.5 * IQR\n",
        "        upper_bound = Q3 + 1.5 * IQR\n",
        "        df_cleaned = df_cleaned[(df_cleaned[column] >= lower_bound) & (df_cleaned[column] <= upper_bound)]\n",
        "    return df_cleaned\n",
        "df_cleaned = remove_outliers(df_fillavg)\n",
        "print(df_cleaned)"
      ],
      "metadata": {
        "colab": {
          "base_uri": "https://localhost:8080/"
        },
        "id": "TvJ3w-3iyNVw",
        "outputId": "da0924ad-7d7c-47d2-df80-d38fd19b6ced"
      },
      "execution_count": null,
      "outputs": [
        {
          "output_type": "stream",
          "name": "stdout",
          "text": [
            "      Возраст     Зарплата   Балл\n",
            "0   25.000000   50000.0000  85.00\n",
            "1   30.000000   70000.0000  90.00\n",
            "2   32.058824  142062.4375  86.75\n",
            "3   22.000000   30000.0000  78.00\n",
            "4   40.000000  150000.0000  95.00\n",
            "5   28.000000   48000.0000  88.00\n",
            "6   35.000000   60000.0000  84.00\n",
            "7   32.058824  142062.4375  86.75\n",
            "9   32.000000  -15000.0000  76.00\n",
            "10  29.000000   54000.0000  75.00\n",
            "11  27.000000   52000.0000  88.00\n",
            "13  32.058824  142062.4375  86.75\n",
            "14  31.000000   65000.0000  89.00\n",
            "15  26.000000   47000.0000  82.00\n",
            "17  24.000000   32000.0000  80.00\n",
            "18  29.000000  110000.0000  91.00\n",
            "19  34.000000  142062.4375  86.75\n"
          ]
        }
      ]
    },
    {
      "cell_type": "markdown",
      "source": [
        "**Просмотр средних значений измененного датасета**"
      ],
      "metadata": {
        "id": "Ok9SuVruEhB8"
      }
    },
    {
      "cell_type": "code",
      "source": [
        "avg_df = df_cleaned.mean()\n",
        "print(avg_df)"
      ],
      "metadata": {
        "colab": {
          "base_uri": "https://localhost:8080/"
        },
        "id": "7T5reH_2seU0",
        "outputId": "10853a9d-1c69-4fd9-9ca7-dc87f97547f8"
      },
      "execution_count": null,
      "outputs": [
        {
          "output_type": "stream",
          "name": "stdout",
          "text": [
            "Возраст        29.892734\n",
            "Зарплата    77720.573529\n",
            "Балл           85.176471\n",
            "dtype: float64\n"
          ]
        }
      ]
    }
  ]
}
{
  "nbformat": 4,
  "nbformat_minor": 0,
  "metadata": {
    "colab": {
      "provenance": [],
      "include_colab_link": true
    },
    "kernelspec": {
      "name": "python3",
      "display_name": "Python 3"
    },
    "language_info": {
      "name": "python"
    }
  },
  "cells": [
    {
      "cell_type": "markdown",
      "metadata": {
        "id": "view-in-github",
        "colab_type": "text"
      },
      "source": [
        "<a href=\"https://colab.research.google.com/github/Vladimir2303850/MyAnalyticsProjects/blob/main/%D0%A1%D1%82%D0%B0%D1%82%D0%B8%D1%81%D1%82%D0%B8%D1%87%D0%B5%D1%81%D0%BA%D0%B8%D0%B9_%D0%B0%D0%BD%D0%B0%D0%BB%D0%B8%D0%B7_%D0%B0%D0%B2%D1%82%D0%BE%D0%BC%D0%BE%D0%B1%D0%B8%D0%BB%D1%8C%D0%BD%D1%8B%D1%85_%D0%B4%D0%B0%D0%BD%D0%BD%D1%8B%D1%85.ipynb\" target=\"_parent\"><img src=\"https://colab.research.google.com/assets/colab-badge.svg\" alt=\"Open In Colab\"/></a>"
      ]
    },
    {
      "cell_type": "markdown",
      "source": [
        "# **Задачи**\n",
        "\n",
        "Определение средних арифметических, гармонических, медианных и модальных значений для ключевых параметров автомобилей (год выпуска, объем двигателя, пробег, количество дверей, владельцев).\n",
        "\n",
        "Сравнение различных типов средних для выявления особенностей распределения данных.\n",
        "\n",
        "Расчет перцентилей (25-й, 50-й, 90-й) для оценки разброса значений и выявления типичных диапазонов.\n",
        "\n",
        "Определение межквартильного размаха (IQR) для анализа вариативности данных и обнаружения выбросов.\n",
        "\n",
        "Вычисление коэффициентов асимметрии для оценки отклонения распределения от симметричности.\n",
        "\n",
        "Расчет эксцесса для определения \"остроконечности\" или \"плоскости\" распределения по сравнению с нормальным.\n",
        "\n",
        "Сопоставление статистических показателей (средние, мода, медиана) для формирования выводов о структуре данных.\n",
        "\n",
        "Анализ влияния выбросов и асимметрии на общие тенденции.\n",
        "\n",
        "Обобщение характеристик автомобилей в выборке (преобладание новых моделей с небольшим объемом двигателя и умеренным пробегом).\n",
        "\n",
        "Оценка надежности данных и их пригодности для дальнейшего анализа."
      ],
      "metadata": {
        "id": "AkVbvxrMfw_P"
      }
    },
    {
      "cell_type": "code",
      "execution_count": null,
      "metadata": {
        "id": "pA-OFhcRoTP-"
      },
      "outputs": [],
      "source": [
        "import pandas as pd\n",
        "import numpy as np\n",
        "from scipy.stats import mode, skew, kurtosis, hmean"
      ]
    },
    {
      "cell_type": "code",
      "source": [
        "df = pd.read_excel('data.xlsx')\n",
        "df.head()"
      ],
      "metadata": {
        "id": "jKE3xmS2px-Q",
        "outputId": "b66c9d89-4feb-4ca1-a18c-51a13c568fae",
        "colab": {
          "base_uri": "https://localhost:8080/",
          "height": 206
        }
      },
      "execution_count": null,
      "outputs": [
        {
          "output_type": "execute_result",
          "data": {
            "text/plain": [
              "        Марка  Модель   Год  Объем_двигателя Тип_топлива Коробка_передач  \\\n",
              "0         Kia     Rio  2020              4.2      Дизель        Механика   \n",
              "1   Chevrolet  Malibu  2012              2.0      Гибрид         Автомат   \n",
              "2    Mercedes     GLA  2020              4.2      Дизель         Автомат   \n",
              "3        Audi      Q5  2023              2.0     Электро        Механика   \n",
              "4  Volkswagen    Golf  2003              2.6      Гибрид     Полуавтомат   \n",
              "\n",
              "   Пробег  Двери  Количество_владельцев   Цена  \n",
              "0  289944      3                      5   8501  \n",
              "1    5356      2                      3  12092  \n",
              "2  231440      4                      2  11171  \n",
              "3  160971      2                      1  11780  \n",
              "4  286618      3                      3   2867  "
            ],
            "text/html": [
              "\n",
              "  <div id=\"df-cdc6ecc3-494e-4b78-b456-4067b2df3b23\" class=\"colab-df-container\">\n",
              "    <div>\n",
              "<style scoped>\n",
              "    .dataframe tbody tr th:only-of-type {\n",
              "        vertical-align: middle;\n",
              "    }\n",
              "\n",
              "    .dataframe tbody tr th {\n",
              "        vertical-align: top;\n",
              "    }\n",
              "\n",
              "    .dataframe thead th {\n",
              "        text-align: right;\n",
              "    }\n",
              "</style>\n",
              "<table border=\"1\" class=\"dataframe\">\n",
              "  <thead>\n",
              "    <tr style=\"text-align: right;\">\n",
              "      <th></th>\n",
              "      <th>Марка</th>\n",
              "      <th>Модель</th>\n",
              "      <th>Год</th>\n",
              "      <th>Объем_двигателя</th>\n",
              "      <th>Тип_топлива</th>\n",
              "      <th>Коробка_передач</th>\n",
              "      <th>Пробег</th>\n",
              "      <th>Двери</th>\n",
              "      <th>Количество_владельцев</th>\n",
              "      <th>Цена</th>\n",
              "    </tr>\n",
              "  </thead>\n",
              "  <tbody>\n",
              "    <tr>\n",
              "      <th>0</th>\n",
              "      <td>Kia</td>\n",
              "      <td>Rio</td>\n",
              "      <td>2020</td>\n",
              "      <td>4.2</td>\n",
              "      <td>Дизель</td>\n",
              "      <td>Механика</td>\n",
              "      <td>289944</td>\n",
              "      <td>3</td>\n",
              "      <td>5</td>\n",
              "      <td>8501</td>\n",
              "    </tr>\n",
              "    <tr>\n",
              "      <th>1</th>\n",
              "      <td>Chevrolet</td>\n",
              "      <td>Malibu</td>\n",
              "      <td>2012</td>\n",
              "      <td>2.0</td>\n",
              "      <td>Гибрид</td>\n",
              "      <td>Автомат</td>\n",
              "      <td>5356</td>\n",
              "      <td>2</td>\n",
              "      <td>3</td>\n",
              "      <td>12092</td>\n",
              "    </tr>\n",
              "    <tr>\n",
              "      <th>2</th>\n",
              "      <td>Mercedes</td>\n",
              "      <td>GLA</td>\n",
              "      <td>2020</td>\n",
              "      <td>4.2</td>\n",
              "      <td>Дизель</td>\n",
              "      <td>Автомат</td>\n",
              "      <td>231440</td>\n",
              "      <td>4</td>\n",
              "      <td>2</td>\n",
              "      <td>11171</td>\n",
              "    </tr>\n",
              "    <tr>\n",
              "      <th>3</th>\n",
              "      <td>Audi</td>\n",
              "      <td>Q5</td>\n",
              "      <td>2023</td>\n",
              "      <td>2.0</td>\n",
              "      <td>Электро</td>\n",
              "      <td>Механика</td>\n",
              "      <td>160971</td>\n",
              "      <td>2</td>\n",
              "      <td>1</td>\n",
              "      <td>11780</td>\n",
              "    </tr>\n",
              "    <tr>\n",
              "      <th>4</th>\n",
              "      <td>Volkswagen</td>\n",
              "      <td>Golf</td>\n",
              "      <td>2003</td>\n",
              "      <td>2.6</td>\n",
              "      <td>Гибрид</td>\n",
              "      <td>Полуавтомат</td>\n",
              "      <td>286618</td>\n",
              "      <td>3</td>\n",
              "      <td>3</td>\n",
              "      <td>2867</td>\n",
              "    </tr>\n",
              "  </tbody>\n",
              "</table>\n",
              "</div>\n",
              "    <div class=\"colab-df-buttons\">\n",
              "\n",
              "  <div class=\"colab-df-container\">\n",
              "    <button class=\"colab-df-convert\" onclick=\"convertToInteractive('df-cdc6ecc3-494e-4b78-b456-4067b2df3b23')\"\n",
              "            title=\"Convert this dataframe to an interactive table.\"\n",
              "            style=\"display:none;\">\n",
              "\n",
              "  <svg xmlns=\"http://www.w3.org/2000/svg\" height=\"24px\" viewBox=\"0 -960 960 960\">\n",
              "    <path d=\"M120-120v-720h720v720H120Zm60-500h600v-160H180v160Zm220 220h160v-160H400v160Zm0 220h160v-160H400v160ZM180-400h160v-160H180v160Zm440 0h160v-160H620v160ZM180-180h160v-160H180v160Zm440 0h160v-160H620v160Z\"/>\n",
              "  </svg>\n",
              "    </button>\n",
              "\n",
              "  <style>\n",
              "    .colab-df-container {\n",
              "      display:flex;\n",
              "      gap: 12px;\n",
              "    }\n",
              "\n",
              "    .colab-df-convert {\n",
              "      background-color: #E8F0FE;\n",
              "      border: none;\n",
              "      border-radius: 50%;\n",
              "      cursor: pointer;\n",
              "      display: none;\n",
              "      fill: #1967D2;\n",
              "      height: 32px;\n",
              "      padding: 0 0 0 0;\n",
              "      width: 32px;\n",
              "    }\n",
              "\n",
              "    .colab-df-convert:hover {\n",
              "      background-color: #E2EBFA;\n",
              "      box-shadow: 0px 1px 2px rgba(60, 64, 67, 0.3), 0px 1px 3px 1px rgba(60, 64, 67, 0.15);\n",
              "      fill: #174EA6;\n",
              "    }\n",
              "\n",
              "    .colab-df-buttons div {\n",
              "      margin-bottom: 4px;\n",
              "    }\n",
              "\n",
              "    [theme=dark] .colab-df-convert {\n",
              "      background-color: #3B4455;\n",
              "      fill: #D2E3FC;\n",
              "    }\n",
              "\n",
              "    [theme=dark] .colab-df-convert:hover {\n",
              "      background-color: #434B5C;\n",
              "      box-shadow: 0px 1px 3px 1px rgba(0, 0, 0, 0.15);\n",
              "      filter: drop-shadow(0px 1px 2px rgba(0, 0, 0, 0.3));\n",
              "      fill: #FFFFFF;\n",
              "    }\n",
              "  </style>\n",
              "\n",
              "    <script>\n",
              "      const buttonEl =\n",
              "        document.querySelector('#df-cdc6ecc3-494e-4b78-b456-4067b2df3b23 button.colab-df-convert');\n",
              "      buttonEl.style.display =\n",
              "        google.colab.kernel.accessAllowed ? 'block' : 'none';\n",
              "\n",
              "      async function convertToInteractive(key) {\n",
              "        const element = document.querySelector('#df-cdc6ecc3-494e-4b78-b456-4067b2df3b23');\n",
              "        const dataTable =\n",
              "          await google.colab.kernel.invokeFunction('convertToInteractive',\n",
              "                                                    [key], {});\n",
              "        if (!dataTable) return;\n",
              "\n",
              "        const docLinkHtml = 'Like what you see? Visit the ' +\n",
              "          '<a target=\"_blank\" href=https://colab.research.google.com/notebooks/data_table.ipynb>data table notebook</a>'\n",
              "          + ' to learn more about interactive tables.';\n",
              "        element.innerHTML = '';\n",
              "        dataTable['output_type'] = 'display_data';\n",
              "        await google.colab.output.renderOutput(dataTable, element);\n",
              "        const docLink = document.createElement('div');\n",
              "        docLink.innerHTML = docLinkHtml;\n",
              "        element.appendChild(docLink);\n",
              "      }\n",
              "    </script>\n",
              "  </div>\n",
              "\n",
              "\n",
              "<div id=\"df-6fc634ea-3e2a-4bb6-b94d-ed615c213cdc\">\n",
              "  <button class=\"colab-df-quickchart\" onclick=\"quickchart('df-6fc634ea-3e2a-4bb6-b94d-ed615c213cdc')\"\n",
              "            title=\"Suggest charts\"\n",
              "            style=\"display:none;\">\n",
              "\n",
              "<svg xmlns=\"http://www.w3.org/2000/svg\" height=\"24px\"viewBox=\"0 0 24 24\"\n",
              "     width=\"24px\">\n",
              "    <g>\n",
              "        <path d=\"M19 3H5c-1.1 0-2 .9-2 2v14c0 1.1.9 2 2 2h14c1.1 0 2-.9 2-2V5c0-1.1-.9-2-2-2zM9 17H7v-7h2v7zm4 0h-2V7h2v10zm4 0h-2v-4h2v4z\"/>\n",
              "    </g>\n",
              "</svg>\n",
              "  </button>\n",
              "\n",
              "<style>\n",
              "  .colab-df-quickchart {\n",
              "      --bg-color: #E8F0FE;\n",
              "      --fill-color: #1967D2;\n",
              "      --hover-bg-color: #E2EBFA;\n",
              "      --hover-fill-color: #174EA6;\n",
              "      --disabled-fill-color: #AAA;\n",
              "      --disabled-bg-color: #DDD;\n",
              "  }\n",
              "\n",
              "  [theme=dark] .colab-df-quickchart {\n",
              "      --bg-color: #3B4455;\n",
              "      --fill-color: #D2E3FC;\n",
              "      --hover-bg-color: #434B5C;\n",
              "      --hover-fill-color: #FFFFFF;\n",
              "      --disabled-bg-color: #3B4455;\n",
              "      --disabled-fill-color: #666;\n",
              "  }\n",
              "\n",
              "  .colab-df-quickchart {\n",
              "    background-color: var(--bg-color);\n",
              "    border: none;\n",
              "    border-radius: 50%;\n",
              "    cursor: pointer;\n",
              "    display: none;\n",
              "    fill: var(--fill-color);\n",
              "    height: 32px;\n",
              "    padding: 0;\n",
              "    width: 32px;\n",
              "  }\n",
              "\n",
              "  .colab-df-quickchart:hover {\n",
              "    background-color: var(--hover-bg-color);\n",
              "    box-shadow: 0 1px 2px rgba(60, 64, 67, 0.3), 0 1px 3px 1px rgba(60, 64, 67, 0.15);\n",
              "    fill: var(--button-hover-fill-color);\n",
              "  }\n",
              "\n",
              "  .colab-df-quickchart-complete:disabled,\n",
              "  .colab-df-quickchart-complete:disabled:hover {\n",
              "    background-color: var(--disabled-bg-color);\n",
              "    fill: var(--disabled-fill-color);\n",
              "    box-shadow: none;\n",
              "  }\n",
              "\n",
              "  .colab-df-spinner {\n",
              "    border: 2px solid var(--fill-color);\n",
              "    border-color: transparent;\n",
              "    border-bottom-color: var(--fill-color);\n",
              "    animation:\n",
              "      spin 1s steps(1) infinite;\n",
              "  }\n",
              "\n",
              "  @keyframes spin {\n",
              "    0% {\n",
              "      border-color: transparent;\n",
              "      border-bottom-color: var(--fill-color);\n",
              "      border-left-color: var(--fill-color);\n",
              "    }\n",
              "    20% {\n",
              "      border-color: transparent;\n",
              "      border-left-color: var(--fill-color);\n",
              "      border-top-color: var(--fill-color);\n",
              "    }\n",
              "    30% {\n",
              "      border-color: transparent;\n",
              "      border-left-color: var(--fill-color);\n",
              "      border-top-color: var(--fill-color);\n",
              "      border-right-color: var(--fill-color);\n",
              "    }\n",
              "    40% {\n",
              "      border-color: transparent;\n",
              "      border-right-color: var(--fill-color);\n",
              "      border-top-color: var(--fill-color);\n",
              "    }\n",
              "    60% {\n",
              "      border-color: transparent;\n",
              "      border-right-color: var(--fill-color);\n",
              "    }\n",
              "    80% {\n",
              "      border-color: transparent;\n",
              "      border-right-color: var(--fill-color);\n",
              "      border-bottom-color: var(--fill-color);\n",
              "    }\n",
              "    90% {\n",
              "      border-color: transparent;\n",
              "      border-bottom-color: var(--fill-color);\n",
              "    }\n",
              "  }\n",
              "</style>\n",
              "\n",
              "  <script>\n",
              "    async function quickchart(key) {\n",
              "      const quickchartButtonEl =\n",
              "        document.querySelector('#' + key + ' button');\n",
              "      quickchartButtonEl.disabled = true;  // To prevent multiple clicks.\n",
              "      quickchartButtonEl.classList.add('colab-df-spinner');\n",
              "      try {\n",
              "        const charts = await google.colab.kernel.invokeFunction(\n",
              "            'suggestCharts', [key], {});\n",
              "      } catch (error) {\n",
              "        console.error('Error during call to suggestCharts:', error);\n",
              "      }\n",
              "      quickchartButtonEl.classList.remove('colab-df-spinner');\n",
              "      quickchartButtonEl.classList.add('colab-df-quickchart-complete');\n",
              "    }\n",
              "    (() => {\n",
              "      let quickchartButtonEl =\n",
              "        document.querySelector('#df-6fc634ea-3e2a-4bb6-b94d-ed615c213cdc button');\n",
              "      quickchartButtonEl.style.display =\n",
              "        google.colab.kernel.accessAllowed ? 'block' : 'none';\n",
              "    })();\n",
              "  </script>\n",
              "</div>\n",
              "    </div>\n",
              "  </div>\n"
            ],
            "application/vnd.google.colaboratory.intrinsic+json": {
              "type": "dataframe",
              "variable_name": "df",
              "summary": "{\n  \"name\": \"df\",\n  \"rows\": 43,\n  \"fields\": [\n    {\n      \"column\": \"\\u041c\\u0430\\u0440\\u043a\\u0430\",\n      \"properties\": {\n        \"dtype\": \"category\",\n        \"num_unique_values\": 10,\n        \"samples\": [\n          \"Hyundai\",\n          \"Chevrolet\",\n          \"Toyota\"\n        ],\n        \"semantic_type\": \"\",\n        \"description\": \"\"\n      }\n    },\n    {\n      \"column\": \"\\u041c\\u043e\\u0434\\u0435\\u043b\\u044c\",\n      \"properties\": {\n        \"dtype\": \"string\",\n        \"num_unique_values\": 25,\n        \"samples\": [\n          \"RAV4\",\n          \"3 Series\",\n          \"Rio\"\n        ],\n        \"semantic_type\": \"\",\n        \"description\": \"\"\n      }\n    },\n    {\n      \"column\": \"\\u0413\\u043e\\u0434\",\n      \"properties\": {\n        \"dtype\": \"number\",\n        \"std\": 6,\n        \"min\": 2000,\n        \"max\": 2023,\n        \"num_unique_values\": 21,\n        \"samples\": [\n          2020,\n          2016,\n          2021\n        ],\n        \"semantic_type\": \"\",\n        \"description\": \"\"\n      }\n    },\n    {\n      \"column\": \"\\u041e\\u0431\\u044a\\u0435\\u043c_\\u0434\\u0432\\u0438\\u0433\\u0430\\u0442\\u0435\\u043b\\u044f\",\n      \"properties\": {\n        \"dtype\": \"number\",\n        \"std\": 1.1261661852741487,\n        \"min\": 1.0,\n        \"max\": 4.9,\n        \"num_unique_values\": 27,\n        \"samples\": [\n          4.5,\n          2.9,\n          4.8\n        ],\n        \"semantic_type\": \"\",\n        \"description\": \"\"\n      }\n    },\n    {\n      \"column\": \"\\u0422\\u0438\\u043f_\\u0442\\u043e\\u043f\\u043b\\u0438\\u0432\\u0430\",\n      \"properties\": {\n        \"dtype\": \"category\",\n        \"num_unique_values\": 4,\n        \"samples\": [\n          \"\\u0413\\u0438\\u0431\\u0440\\u0438\\u0434\",\n          \"\\u0411\\u0435\\u043d\\u0437\\u0438\\u043d\",\n          \"\\u0414\\u0438\\u0437\\u0435\\u043b\\u044c\"\n        ],\n        \"semantic_type\": \"\",\n        \"description\": \"\"\n      }\n    },\n    {\n      \"column\": \"\\u041a\\u043e\\u0440\\u043e\\u0431\\u043a\\u0430_\\u043f\\u0435\\u0440\\u0435\\u0434\\u0430\\u0447\",\n      \"properties\": {\n        \"dtype\": \"category\",\n        \"num_unique_values\": 3,\n        \"samples\": [\n          \"\\u041c\\u0435\\u0445\\u0430\\u043d\\u0438\\u043a\\u0430\",\n          \"\\u0410\\u0432\\u0442\\u043e\\u043c\\u0430\\u0442\",\n          \"\\u041f\\u043e\\u043b\\u0443\\u0430\\u0432\\u0442\\u043e\\u043c\\u0430\\u0442\"\n        ],\n        \"semantic_type\": \"\",\n        \"description\": \"\"\n      }\n    },\n    {\n      \"column\": \"\\u041f\\u0440\\u043e\\u0431\\u0435\\u0433\",\n      \"properties\": {\n        \"dtype\": \"number\",\n        \"std\": 82325,\n        \"min\": 5356,\n        \"max\": 296824,\n        \"num_unique_values\": 43,\n        \"samples\": [\n          167050,\n          19868,\n          92188\n        ],\n        \"semantic_type\": \"\",\n        \"description\": \"\"\n      }\n    },\n    {\n      \"column\": \"\\u0414\\u0432\\u0435\\u0440\\u0438\",\n      \"properties\": {\n        \"dtype\": \"number\",\n        \"std\": 1,\n        \"min\": 2,\n        \"max\": 5,\n        \"num_unique_values\": 4,\n        \"samples\": [\n          2,\n          5,\n          3\n        ],\n        \"semantic_type\": \"\",\n        \"description\": \"\"\n      }\n    },\n    {\n      \"column\": \"\\u041a\\u043e\\u043b\\u0438\\u0447\\u0435\\u0441\\u0442\\u0432\\u043e_\\u0432\\u043b\\u0430\\u0434\\u0435\\u043b\\u044c\\u0446\\u0435\\u0432\",\n      \"properties\": {\n        \"dtype\": \"number\",\n        \"std\": 1,\n        \"min\": 1,\n        \"max\": 5,\n        \"num_unique_values\": 5,\n        \"samples\": [\n          3,\n          4,\n          2\n        ],\n        \"semantic_type\": \"\",\n        \"description\": \"\"\n      }\n    },\n    {\n      \"column\": \"\\u0426\\u0435\\u043d\\u0430\",\n      \"properties\": {\n        \"dtype\": \"number\",\n        \"std\": 2953,\n        \"min\": 2351,\n        \"max\": 14837,\n        \"num_unique_values\": 42,\n        \"samples\": [\n          8856,\n          4820,\n          9926\n        ],\n        \"semantic_type\": \"\",\n        \"description\": \"\"\n      }\n    }\n  ]\n}"
            }
          },
          "metadata": {},
          "execution_count": 5
        }
      ]
    },
    {
      "cell_type": "markdown",
      "source": [
        "**Расчет средних значений**"
      ],
      "metadata": {
        "id": "rC1Vj5nV-FCm"
      }
    },
    {
      "cell_type": "code",
      "source": [
        "year_avg = df['Год'].mean()\n",
        "hp_avg = df['Объем_двигателя'].mean()\n",
        "mileage_avg = df['Пробег'].mean()\n",
        "doors_avg = df['Двери'].mean()\n",
        "owners_avg= df['Количество_владельцев'].mean()\n",
        "year_avg, hp_avg, mileage_avg, doors_avg, owners_avg\n"
      ],
      "metadata": {
        "colab": {
          "base_uri": "https://localhost:8080/"
        },
        "outputId": "3ad0e68e-1d93-4acb-f160-d3a758e95841",
        "id": "fLSkKcuJKAWN"
      },
      "execution_count": null,
      "outputs": [
        {
          "output_type": "execute_result",
          "data": {
            "text/plain": [
              "(2010.0697674418604,\n",
              " 3.0279069767441866,\n",
              " 130935.11627906977,\n",
              " 3.116279069767442,\n",
              " 2.813953488372093)"
            ]
          },
          "metadata": {},
          "execution_count": 12
        }
      ]
    },
    {
      "cell_type": "markdown",
      "source": [
        "Можем заметить, что средний автомобиль из выборки был в пользовании около 15\n",
        "лет, имеет внушительный обьем двигателя, характерный для спортивных автомобилей, а\n",
        "также пробег на уровне 9000км в год, что приемлемо для периодической городской езды.\n",
        "Можем заметить, что количество владельцев почти равно 3, что объясняется возрастом\n",
        "автомобиля. Количество дверей в среднем 3 штуки, что говорит нам о высокой доле\n",
        "двухдверных автомобилей, что является особенностью спортивного типа автомобилей"
      ],
      "metadata": {
        "id": "oNuh1O9W-obp"
      }
    },
    {
      "cell_type": "markdown",
      "source": [
        "**Расчет гармонического среднего**"
      ],
      "metadata": {
        "id": "VbbqO3TS-HcY"
      }
    },
    {
      "cell_type": "code",
      "source": [
        "year_h = hmean['Год'].mean()\n",
        "hp_avg = df['Объем_двигателя'].mean()\n",
        "mileage_avg = df['Пробег'].mean()\n",
        "doors_avg = df['Двери'].mean()\n",
        "owners_avg= df['Количество_владельцев'].mean()\n",
        "year_avg, hp_avg, mileage_avg, doors_avg, owners_avg\n"
      ],
      "metadata": {
        "id": "NnMChE18KW-D"
      },
      "execution_count": null,
      "outputs": []
    },
    {
      "cell_type": "markdown",
      "source": [
        "Данные указывают на то, что в наборе преобладают относительно новые автомобили\n",
        "с небольшим объемом двигателя, умеренным пробегом и небольшим количеством\n",
        "владельцев. Это может быть полезно для потенциальных покупателей, которые ищут\n",
        "надежные и экономичные автомобили для повседневного использования"
      ],
      "metadata": {
        "id": "RlOI4UfS-rK0"
      }
    },
    {
      "cell_type": "markdown",
      "source": [
        "**Расчет медиан**"
      ],
      "metadata": {
        "id": "C8Q74_vG_Cr_"
      }
    },
    {
      "cell_type": "code",
      "source": [
        "year_median = df['Год'].median()\n",
        "hp_median = df['Объем_двигателя'].median()\n",
        "mileage_median = df['Пробег'].median()\n",
        "doors_median = df['Двери'].median()\n",
        "owners_median = df['Количество_владельцев'].median()\n",
        "year_median, hp_median, mileage_median, doors_median, owners_median"
      ],
      "metadata": {
        "colab": {
          "base_uri": "https://localhost:8080/"
        },
        "id": "zpVe1fWtvg2K",
        "outputId": "869cc1fe-b320-4d1a-c0e7-0f9acbd94802"
      },
      "execution_count": null,
      "outputs": [
        {
          "output_type": "execute_result",
          "data": {
            "text/plain": [
              "(2009.0, 3.1, 121816.0, 3.0, 3.0)"
            ]
          },
          "metadata": {},
          "execution_count": 18
        }
      ]
    },
    {
      "cell_type": "markdown",
      "source": [
        "Медианное количество дверей составляет 3.0, что указывает на преобладание в\n",
        "данных автомобилей с 3 или 4 дверями, таких как седаны или хэтчбеки. Медианное\n",
        "количество владельцев составляет 3.0, что говорит о том, что половина автомобилей имела\n",
        "3 владельца или меньше, а другая половина — больше. Это может свидетельствовать о\n",
        "частой смене владельцев, что важно учитывать при оценке истории и состояния\n",
        "автомобилей."
      ],
      "metadata": {
        "id": "HzJMEeTz_B2d"
      }
    },
    {
      "cell_type": "markdown",
      "source": [
        "**Расчет мод**"
      ],
      "metadata": {
        "id": "AwCcbyaf-XcI"
      }
    },
    {
      "cell_type": "code",
      "source": [
        "year_mode = mode(df['Год'])\n",
        "hp_mode = mode(df['Объем_двигателя'])\n",
        "mileage_mode = mode(df['Пробег'])\n",
        "doors_mode = mode(df['Двери'])\n",
        "owners_mode = mode(df['Количество_владельцев'])\n",
        "year_mode, hp_mode, mileage_mode, doors_mode, owners_mode"
      ],
      "metadata": {
        "colab": {
          "base_uri": "https://localhost:8080/"
        },
        "id": "PrlvdBL5wHzY",
        "outputId": "d4a5db8c-19e8-4468-a327-ec388e322aa3"
      },
      "execution_count": null,
      "outputs": [
        {
          "output_type": "execute_result",
          "data": {
            "text/plain": [
              "(ModeResult(mode=2007, count=5),\n",
              " ModeResult(mode=2.0, count=3),\n",
              " ModeResult(mode=5356, count=1),\n",
              " ModeResult(mode=2, count=17),\n",
              " ModeResult(mode=1, count=11))"
            ]
          },
          "metadata": {},
          "execution_count": 21
        }
      ]
    },
    {
      "cell_type": "markdown",
      "source": [
        "Модальное количество дверей — 2, что встречается 17 раз, указывает на то, что\n",
        "двухдверные автомобили являются наиболее распространенными в наборе данных. Это\n",
        "может говорить о популярности кузовов типа купе или компактных моделей. Модальное\n",
        "количество владельцев — 1, что встречается 11 раз, указывает на то, что большинство\n",
        "автомобилей в наборе данных имели только одного владельца. Это может\n",
        "свидетельствовать о том, что автомобили не часто перепродавались, что может быть\n",
        "признаком их хорошего состояния или относительно недавней покупки. В целом, данные\n",
        "показывают, что наиболее типичные автомобили в наборе — это модели 2007 года выпуска\n",
        "с объемом двигателя 2.0, двухдверные и с одним владельцем."
      ],
      "metadata": {
        "id": "Q53JjMiF_LWd"
      }
    },
    {
      "cell_type": "markdown",
      "source": [
        "**Расчет перцентилей**"
      ],
      "metadata": {
        "id": "Lfijzpyv-Z7I"
      }
    },
    {
      "cell_type": "code",
      "source": [
        "percentile25 = np.percentile(df['Год'],25)\n",
        "percentile50 = np.percentile(df['Год'],50)\n",
        "percentile90 = np.percentile(df['Год'],90)\n",
        "print(f\"Перцентиль 25: {percentile25}, Перцентиль 50: {percentile50}, Перцентиль 90: {percentile90} для столбца Год\")\n",
        "percentile25 = np.percentile(df['Объем_двигателя'],25)\n",
        "percentile50 = np.percentile(df['Объем_двигателя'],50)\n",
        "percentile90 = np.percentile(df['Объем_двигателя'],90)\n",
        "print(f\"Перцентиль 25: {percentile25}, Перцентиль 50: {percentile50}, Перцентиль 90: {percentile90} для столбца Объем_двигателя\")\n",
        "percentile25 = np.percentile(df['Пробег'],25)\n",
        "percentile50 = np.percentile(df['Пробег'],50)\n",
        "percentile90 = np.percentile(df['Пробег'],90)\n",
        "print(f\"Перцентиль 25: {percentile25}, Перцентиль 50: {percentile50}, Перцентиль 90: {percentile90} для столбца Пробег\")\n",
        "percentile25 = np.percentile(df['Двери'],25)\n",
        "percentile50 = np.percentile(df['Двери'],50)\n",
        "percentile90 = np.percentile(df['Двери'],90)\n",
        "print(f\"Перцентиль 25: {percentile25}, Перцентиль 50: {percentile50}, Перцентиль 90: {percentile90} для столбца Двери\")\n",
        "percentile25 = np.percentile(df['Количество_владельцев'],25)\n",
        "percentile50 = np.percentile(df['Количество_владельцев'],50)\n",
        "percentile90 = np.percentile(df['Количество_владельцев'],90)\n",
        "print(f\"Перцентиль 25: {percentile25}, Перцентиль 50: {percentile50}, Перцентиль 90: {percentile90} для столбца Количество_владельцев\")"
      ],
      "metadata": {
        "colab": {
          "base_uri": "https://localhost:8080/"
        },
        "id": "0msKPgyEwTx3",
        "outputId": "70acf3b4-519d-4ad8-e532-0cc6d43dd023"
      },
      "execution_count": null,
      "outputs": [
        {
          "output_type": "stream",
          "name": "stdout",
          "text": [
            "Перцентиль 25: 2004.5, Перцентиль 50: 2009.0, Перцентиль 90: 2020.0 для столбца Год\n",
            "Перцентиль 25: 2.1, Перцентиль 50: 3.1, Перцентиль 90: 4.58 для столбца Объем_двигателя\n",
            "Перцентиль 25: 69726.5, Перцентиль 50: 121816.0, Перцентиль 90: 262214.2 для столбца Пробег\n",
            "Перцентиль 25: 2.0, Перцентиль 50: 3.0, Перцентиль 90: 5.0 для столбца Двери\n",
            "Перцентиль 25: 1.5, Перцентиль 50: 3.0, Перцентиль 90: 4.800000000000004 для столбца Количество_владельцев\n"
          ]
        }
      ]
    },
    {
      "cell_type": "markdown",
      "source": [
        "На основе перцентилей можно сделать следующие выводы: 25% автомобилей\n",
        "выпущены до 2004.5 года, 50% — до 2009 года, а 90% — до 2020 года. Объем двигателя у\n",
        "25% автомобилей менее 2.1, у 50% — менее 3.1, а у 90% — менее 4.58. Пробег у 25%\n",
        "автомобилей менее 69726.5 км, у 50% — менее 121816 км, а у 90% — менее 262214 км.\n",
        "Количество дверей у 25% автомобилей — 2 или меньше, у 50% — 3 или меньше, а у 90%\n",
        "— 5 или меньше. Количество владельцев у 25% автомобилей — 1 или 2, у 50% — 3 или\n",
        "меньше, а у 90% — 4.8 или меньше. Эти данные показывают, что в наборе преобладают\n",
        "автомобили среднего возраста с умеренным объемом двигателя, значительным пробегом и\n",
        "несколькими владельцами."
      ],
      "metadata": {
        "id": "bKdZm3CS_PNG"
      }
    },
    {
      "cell_type": "markdown",
      "source": [
        "**Расчет межквартильного размаха (IQR)**"
      ],
      "metadata": {
        "id": "ak6KoxDF-b6v"
      }
    },
    {
      "cell_type": "code",
      "source": [
        "iqr_year = df['Год'].quantile(0.75)-df['Год'].quantile(0.25)\n",
        "iqr_hp = df['Объем_двигателя'].quantile(0.75)-df['Объем_двигателя'].quantile(0.25)\n",
        "iqr_mileage = df['Пробег'].quantile(0.75)-df['Пробег'].quantile(0.25)\n",
        "iqr_doors = df['Двери'].quantile(0.75)-df['Двери'].quantile(0.25)\n",
        "iqr_owners = df['Количество_владельцев'].quantile(0.75)-df['Количество_владельцев'].quantile(0.25)\n",
        "iqr_year, iqr_hp, iqr_mileage, iqr_doors, iqr_owners"
      ],
      "metadata": {
        "colab": {
          "base_uri": "https://localhost:8080/"
        },
        "id": "NXTtLIyGxYm8",
        "outputId": "6c2778c9-31e4-4e57-c088-c48ef890d74d"
      },
      "execution_count": null,
      "outputs": [
        {
          "output_type": "execute_result",
          "data": {
            "text/plain": [
              "(12.0, 1.7999999999999998, 105608.0, 2.0, 2.5)"
            ]
          },
          "metadata": {},
          "execution_count": 26
        }
      ]
    },
    {
      "cell_type": "markdown",
      "source": [
        "IQR для пробега демонстрирует значительный разброс. Это означает, что в данных\n",
        "есть как автомобили с небольшим пробегом, так и с очень высоким, что может влиять на их\n",
        "состояние и стоимость. IQR для количества дверей показывает, что большинство\n",
        "автомобилей имеют 3 или 4 двери. Это указывает на преобладание седанов или хэтчбеков\n",
        "в данных. IQR для количества владельцев указывает на то, что большинство автомобилей\n",
        "сменили от 1 до 3 владельцев. Это может свидетельствовать о том, что автомобили не часто\n",
        "перепродавались, что может быть признаком их хорошего состояния.\n"
      ],
      "metadata": {
        "id": "_UTApiRg_ST7"
      }
    },
    {
      "cell_type": "markdown",
      "source": [
        "**Расчет асимметрии (skewness)**"
      ],
      "metadata": {
        "id": "wGnWM2OU-eJe"
      }
    },
    {
      "cell_type": "code",
      "source": [
        "skewness_year = skew(df['Цена'], nan_policy='omit')\n",
        "skewness_hp = skew(df['Объем_двигателя'], nan_policy='omit')\n",
        "skewness_mileage = skew(df['Пробег'], nan_policy='omit')\n",
        "skewness_doors = skew(df['Двери'], nan_policy='omit')\n",
        "skewness_owners = skew(df['Количество_владельцев'], nan_policy='omit')\n",
        "skewness_year, skewness_hp, skewness_mileage, skewness_doors, skewness_owners"
      ],
      "metadata": {
        "colab": {
          "base_uri": "https://localhost:8080/"
        },
        "id": "K3kV52hczsCl",
        "outputId": "4d52a882-e526-4ddc-dee8-3f5a110a3223"
      },
      "execution_count": null,
      "outputs": [
        {
          "output_type": "execute_result",
          "data": {
            "text/plain": [
              "(-0.2782095091006514,\n",
              " 0.041250407417632015,\n",
              " 0.48117121501273835,\n",
              " 0.4949743651674853,\n",
              " 0.011016211295451054)"
            ]
          },
          "metadata": {},
          "execution_count": 30
        }
      ]
    },
    {
      "cell_type": "markdown",
      "source": [
        "Год выпуска автомобилей имеет легкую левостороннюю асимметрию (-0.278), что\n",
        "указывает на преобладание более новых моделей с некоторым количеством старых. Объем\n",
        "двигателя демонстрирует почти симметричное распределение (0.041), что говорит о\n",
        "равномерном распределении объемов. Пробег имеет правостороннюю асимметрию (0.481),\n",
        "указывая на наличие автомобилей с очень высоким пробегом. Количество дверей также\n",
        "показывает правостороннюю асимметрию (0.495), что говорит о преобладании\n",
        "автомобилей с меньшим количеством дверей. Количество владельцев имеет почти\n",
        "симметричное распределение (0.011), что указывает на равномерное распределение\n"
      ],
      "metadata": {
        "id": "GsluIgKO_XMt"
      }
    },
    {
      "cell_type": "markdown",
      "source": [
        "**Расчет эксцесса (kurtosis)**"
      ],
      "metadata": {
        "id": "QbOyOy8s-gCD"
      }
    },
    {
      "cell_type": "code",
      "source": [
        "kurtosis_year = kurtosis(df['Цена'], nan_policy='omit', bias=False)\n",
        "kurtosis_hp = kurtosis(df['Объем_двигателя'], nan_policy='omit', bias=False)\n",
        "kurtosis_mileage = kurtosis(df['Пробег'], nan_policy='omit', bias=False)\n",
        "kurtosis_doors = kurtosis(df['Двери'], nan_policy='omit', bias=False)\n",
        "kurtosis_owners = kurtosis(df['Количество_владельцев'], nan_policy='omit', bias=False)\n",
        "kurtosis_year, kurtosis_hp, kurtosis_mileage, kurtosis_doors, kurtosis_owners"
      ],
      "metadata": {
        "colab": {
          "base_uri": "https://localhost:8080/"
        },
        "id": "AjU-7OG40s0e",
        "outputId": "7dab4beb-08ba-4c45-a67e-c18cecdae792"
      },
      "execution_count": null,
      "outputs": [
        {
          "output_type": "execute_result",
          "data": {
            "text/plain": [
              "(-0.29761186943254003,\n",
              " -1.1064851981571966,\n",
              " -0.6224675361517815,\n",
              " -1.1210316470831305,\n",
              " -1.2973081567453517)"
            ]
          },
          "metadata": {},
          "execution_count": 31
        }
      ]
    },
    {
      "cell_type": "markdown",
      "source": [
        "Год выпуска автомобилей имеет плоское распределение (-0.298), что указывает на\n",
        "равномерное распределение данных. Объем двигателя также демонстрирует плоское\n",
        "распределение (-1.106), говорящее о равномерности значений. Пробег показывает умеренно\n",
        "плоское распределение (-0.622), что указывает на некоторую равномерность с легкой\n",
        "концентрацией вокруг среднего. Количество дверей имеет плоское распределение (-1.121),\n",
        "что говорит о равномерном распределении данных. Количество владельцев демонстрирует\n",
        "очень плоское распределение (-1.297), указывая на равномерность значений.\n"
      ],
      "metadata": {
        "id": "g_8K2n_l-h4g"
      }
    },
    {
      "cell_type": "markdown",
      "source": [
        "\n",
        "\n",
        "> **Вывод**\n",
        "\n",
        "\n",
        "\n",
        "> *На основе всех предоставленных данных можно сделать следующие выводы. Средний год выпуска автомобилей составляет примерно 2010.07, с медианой 2009.0 и\n",
        "модой 2007, что указывает на преобладание относительно новых моделей, но с некоторым\n",
        "количеством старых. Объем двигателя имеет среднее гармоническое 2.56, медиану 3.1 и\n",
        "моду 2.0, что говорит о преобладании автомобилей с небольшим объемом двигателя, но с\n",
        "равномерным распределением (эксцесс -1.106).\n",
        "Пробег имеет среднее гармоническое 59079.16, медиану 121816.0 и моду 5356, что\n",
        "указывает на значительный разброс данных с правосторонней асимметрией (0.481) и\n",
        "умеренно плоским распределением (эксцесс -0.622). Это говорит о наличии как\n",
        "автомобилей с небольшим пробегом, так и с очень высоким.\n",
        "Количество дверей имеет среднее гармоническое 2.76, медиану 3.0 и моду 2, что\n",
        "указывает на преобладание автомобилей с меньшим количеством дверей, но с равномерным\n",
        "распределением (эксцесс -1.121).\n",
        "Количество владельцев имеет среднее гармоническое 2.02, медиану 3.0 и моду 1, что\n",
        "говорит о том, что большинство автомобилей имели одного или двух владельцев, с почти\n",
        "симметричным распределением (0.011) и очень плоским распределением (эксцесс -1.297).\n",
        "В целом, данные показывают, что в наборе преобладают относительно новые\n",
        "автомобили с небольшим объемом двигателя, умеренным пробегом и небольшим\n",
        "количеством владельцев. Распределения данных в основном равномерные, с некоторыми\n",
        "отклонениями, такими как правосторонняя асимметрия пробега и левосторонняя\n",
        "асимметрия года выпуска*\n",
        "\n",
        "\n",
        "\n",
        "\n"
      ],
      "metadata": {
        "id": "ucVB0Nmb_dTY"
      }
    }
  ]
}

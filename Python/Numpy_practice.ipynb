{
  "cells": [
    {
      "cell_type": "markdown",
      "metadata": {
        "id": "view-in-github",
        "colab_type": "text"
      },
      "source": [
        "<a href=\"https://colab.research.google.com/github/Vladimir2303850/MyAnalyticsProjects/blob/main/%D1%80%D0%B0%D0%B1%D0%BE%D1%82%D0%B0%20%D1%81%20numpy.ipynb\" target=\"_parent\"><img src=\"https://colab.research.google.com/assets/colab-badge.svg\" alt=\"Open In Colab\"/></a>"
      ]
    },
    {
      "cell_type": "markdown",
      "metadata": {
        "id": "uBTp_yeGTCmu"
      },
      "source": [
        "#### 1. Импортируйте NumPy as np"
      ]
    },
    {
      "cell_type": "code",
      "execution_count": null,
      "metadata": {
        "collapsed": true,
        "id": "3f6SwL4GTCmu"
      },
      "outputs": [],
      "source": [
        "import numpy as np"
      ]
    },
    {
      "cell_type": "markdown",
      "metadata": {
        "id": "FGUME_MZTCmv"
      },
      "source": [
        "#### 2. Создайте массив из 10 нулей"
      ]
    },
    {
      "cell_type": "code",
      "execution_count": null,
      "metadata": {
        "colab": {
          "base_uri": "https://localhost:8080/"
        },
        "id": "i91kecZfTCmw",
        "outputId": "39d8f631-a2eb-407e-f3d6-e6d6ce347d08"
      },
      "outputs": [
        {
          "output_type": "execute_result",
          "data": {
            "text/plain": [
              "array([0., 0., 0., 0., 0., 0., 0., 0., 0., 0.])"
            ]
          },
          "metadata": {},
          "execution_count": 5
        }
      ],
      "source": [
        "np.zeros(10)"
      ]
    },
    {
      "cell_type": "markdown",
      "metadata": {
        "id": "UiCJrrRSTCmx"
      },
      "source": [
        "#### 3. Создайте массив из 10 единиц"
      ]
    },
    {
      "cell_type": "code",
      "execution_count": null,
      "metadata": {
        "colab": {
          "base_uri": "https://localhost:8080/"
        },
        "id": "0ifltzkrTCmx",
        "outputId": "6b22b21a-e138-4e87-bd89-a927161ae31e"
      },
      "outputs": [
        {
          "output_type": "execute_result",
          "data": {
            "text/plain": [
              "array([1., 1., 1., 1., 1., 1., 1., 1., 1., 1.])"
            ]
          },
          "metadata": {},
          "execution_count": 6
        }
      ],
      "source": [
        "np.ones(10)"
      ]
    },
    {
      "cell_type": "markdown",
      "metadata": {
        "id": "4okpgp6RTCmy"
      },
      "source": [
        "#### 4. Создайте массив из 10 пятёрок"
      ]
    },
    {
      "cell_type": "code",
      "execution_count": null,
      "metadata": {
        "colab": {
          "base_uri": "https://localhost:8080/"
        },
        "id": "Ey0K1QW5TCmy",
        "outputId": "a7264a0f-b763-427a-d672-2d18c7972e59"
      },
      "outputs": [
        {
          "output_type": "execute_result",
          "data": {
            "text/plain": [
              "array([5., 5., 5., 5., 5., 5., 5., 5., 5., 5.])"
            ]
          },
          "metadata": {},
          "execution_count": 7
        }
      ],
      "source": [
        "np.ones(10) * 5"
      ]
    },
    {
      "cell_type": "markdown",
      "metadata": {
        "id": "IJW6I7PsTCmz"
      },
      "source": [
        "#### 5. Создайте массив целых чисел от 10 до 50 включительно"
      ]
    },
    {
      "cell_type": "code",
      "execution_count": null,
      "metadata": {
        "colab": {
          "base_uri": "https://localhost:8080/"
        },
        "id": "Eg1l_5EOTCm0",
        "outputId": "55834b21-7eff-4499-be01-1ecad0468dbb"
      },
      "outputs": [
        {
          "output_type": "execute_result",
          "data": {
            "text/plain": [
              "array([10, 11, 12, 13, 14, 15, 16, 17, 18, 19, 20, 21, 22, 23, 24, 25, 26,\n",
              "       27, 28, 29, 30, 31, 32, 33, 34, 35, 36, 37, 38, 39, 40, 41, 42, 43,\n",
              "       44, 45, 46, 47, 48, 49, 50])"
            ]
          },
          "metadata": {},
          "execution_count": 8
        }
      ],
      "source": [
        "np.arange(10,51)"
      ]
    },
    {
      "cell_type": "markdown",
      "metadata": {
        "id": "sa_C5griTCm0"
      },
      "source": [
        "#### 6. Создайте массив всех чётных чисел от 10 до 50 включительно"
      ]
    },
    {
      "cell_type": "code",
      "execution_count": null,
      "metadata": {
        "colab": {
          "base_uri": "https://localhost:8080/"
        },
        "id": "TdGAt2ycTCm0",
        "outputId": "438ac50c-a1ee-4c37-dd14-2b049d4707fd"
      },
      "outputs": [
        {
          "output_type": "execute_result",
          "data": {
            "text/plain": [
              "array([10, 12, 14, 16, 18, 20, 22, 24, 26, 28, 30, 32, 34, 36, 38, 40, 42,\n",
              "       44, 46, 48, 50])"
            ]
          },
          "metadata": {},
          "execution_count": 9
        }
      ],
      "source": [
        "np.arange(10,51,2)"
      ]
    },
    {
      "cell_type": "markdown",
      "metadata": {
        "id": "5qnIlBNWTCm1"
      },
      "source": [
        "#### 7. Создайте матрицу 3x3 со значениями от 0 до 8 включительно"
      ]
    },
    {
      "cell_type": "code",
      "execution_count": null,
      "metadata": {
        "colab": {
          "base_uri": "https://localhost:8080/"
        },
        "id": "eIuiums1TCm1",
        "outputId": "68ab4269-5b2b-482c-e529-5f2893f123b5"
      },
      "outputs": [
        {
          "output_type": "execute_result",
          "data": {
            "text/plain": [
              "array([[0, 1, 2],\n",
              "       [3, 4, 5],\n",
              "       [6, 7, 8]])"
            ]
          },
          "metadata": {},
          "execution_count": 10
        }
      ],
      "source": [
        "np.arange(9).reshape(3,3)"
      ]
    },
    {
      "cell_type": "markdown",
      "metadata": {
        "id": "iEti8KJyTCm1"
      },
      "source": [
        "#### 8. Создайте единичную матрицу размером 3x3"
      ]
    },
    {
      "cell_type": "code",
      "execution_count": null,
      "metadata": {
        "colab": {
          "base_uri": "https://localhost:8080/"
        },
        "id": "wQ5oUQcUTCm2",
        "outputId": "2cbeb83e-07e5-4aed-fa37-67391a1ee016"
      },
      "outputs": [
        {
          "output_type": "execute_result",
          "data": {
            "text/plain": [
              "array([[1., 0., 0.],\n",
              "       [0., 1., 0.],\n",
              "       [0., 0., 1.]])"
            ]
          },
          "metadata": {},
          "execution_count": 11
        }
      ],
      "source": [
        "np.eye(3)"
      ]
    },
    {
      "cell_type": "markdown",
      "metadata": {
        "id": "hr6WfqhPTCm2"
      },
      "source": [
        "#### 9. С помощью NumPy сгенерируйте случайное число в диапазоне от 0 до 1<br><br>&emsp;Замечание: Ваш результат может отличаться от того, что указано в качестве примера ниже."
      ]
    },
    {
      "cell_type": "code",
      "execution_count": null,
      "metadata": {
        "colab": {
          "base_uri": "https://localhost:8080/"
        },
        "id": "TXcQcgv2TCm2",
        "outputId": "23b35d23-0dbe-4509-b284-11035352b448"
      },
      "outputs": [
        {
          "output_type": "execute_result",
          "data": {
            "text/plain": [
              "array([0.9922416])"
            ]
          },
          "metadata": {},
          "execution_count": 12
        }
      ],
      "source": [
        "np.random.rand(1)"
      ]
    },
    {
      "cell_type": "markdown",
      "metadata": {
        "id": "gTqOPkFuTCm2"
      },
      "source": [
        "#### 10. С помощью NumPy сгенерируйте массив из 25 случайных чисел, выбранных из стандартного нормального распределения<br><br>&emsp;&ensp;Замечание: Ваш результат может отличаться от того, что указано в качестве примера ниже."
      ]
    },
    {
      "cell_type": "code",
      "execution_count": null,
      "metadata": {
        "colab": {
          "base_uri": "https://localhost:8080/"
        },
        "id": "wCKAGEXBTCm3",
        "outputId": "8c7550f6-5bda-41d9-d46d-90913c137360"
      },
      "outputs": [
        {
          "output_type": "execute_result",
          "data": {
            "text/plain": [
              "array([-0.58748065,  1.05295725, -1.69513316,  1.97086885,  0.42242126,\n",
              "       -1.46142951, -0.10497173,  1.31352437, -0.93631687,  0.30511832,\n",
              "       -1.028522  ,  0.55612997,  0.48212349, -1.50834091, -0.66819   ,\n",
              "        0.67868996, -2.16084586, -0.82936967, -0.97042765,  0.82673985,\n",
              "        1.81467201, -1.36907108,  1.39618182, -0.17193818,  0.93291286])"
            ]
          },
          "metadata": {},
          "execution_count": 13
        }
      ],
      "source": [
        "np.random.randn(25)"
      ]
    },
    {
      "cell_type": "markdown",
      "metadata": {
        "id": "IlQVq7XnTCm3"
      },
      "source": [
        "#### 11. Создайте указанную ниже матрицу:"
      ]
    },
    {
      "cell_type": "code",
      "execution_count": null,
      "metadata": {
        "colab": {
          "base_uri": "https://localhost:8080/"
        },
        "id": "oijYbCyZTCm3",
        "outputId": "91c83968-c600-47ea-811e-ac8773a76d05"
      },
      "outputs": [
        {
          "output_type": "execute_result",
          "data": {
            "text/plain": [
              "array([[0.01, 0.02, 0.03, 0.04, 0.05, 0.06, 0.07, 0.08, 0.09, 0.1 ],\n",
              "       [0.11, 0.12, 0.13, 0.14, 0.15, 0.16, 0.17, 0.18, 0.19, 0.2 ],\n",
              "       [0.21, 0.22, 0.23, 0.24, 0.25, 0.26, 0.27, 0.28, 0.29, 0.3 ],\n",
              "       [0.31, 0.32, 0.33, 0.34, 0.35, 0.36, 0.37, 0.38, 0.39, 0.4 ],\n",
              "       [0.41, 0.42, 0.43, 0.44, 0.45, 0.46, 0.47, 0.48, 0.49, 0.5 ],\n",
              "       [0.51, 0.52, 0.53, 0.54, 0.55, 0.56, 0.57, 0.58, 0.59, 0.6 ],\n",
              "       [0.61, 0.62, 0.63, 0.64, 0.65, 0.66, 0.67, 0.68, 0.69, 0.7 ],\n",
              "       [0.71, 0.72, 0.73, 0.74, 0.75, 0.76, 0.77, 0.78, 0.79, 0.8 ],\n",
              "       [0.81, 0.82, 0.83, 0.84, 0.85, 0.86, 0.87, 0.88, 0.89, 0.9 ],\n",
              "       [0.91, 0.92, 0.93, 0.94, 0.95, 0.96, 0.97, 0.98, 0.99, 1.  ]])"
            ]
          },
          "metadata": {},
          "execution_count": 14
        }
      ],
      "source": [
        "np.arange(1,101).reshape(10,10) / 100"
      ]
    },
    {
      "cell_type": "markdown",
      "metadata": {
        "id": "imAw0A8QTCm3"
      },
      "source": [
        "#### 12. Создайте массив из 20 равноудалённых друг от друга точек между 0 и 1:"
      ]
    },
    {
      "cell_type": "code",
      "execution_count": null,
      "metadata": {
        "colab": {
          "base_uri": "https://localhost:8080/"
        },
        "id": "BXQ_kmOTTCm4",
        "outputId": "d6a54c8b-e153-44e0-8fa5-76bd4c3b07f5"
      },
      "outputs": [
        {
          "output_type": "execute_result",
          "data": {
            "text/plain": [
              "array([0.        , 0.05263158, 0.10526316, 0.15789474, 0.21052632,\n",
              "       0.26315789, 0.31578947, 0.36842105, 0.42105263, 0.47368421,\n",
              "       0.52631579, 0.57894737, 0.63157895, 0.68421053, 0.73684211,\n",
              "       0.78947368, 0.84210526, 0.89473684, 0.94736842, 1.        ])"
            ]
          },
          "metadata": {},
          "execution_count": 15
        }
      ],
      "source": [
        "np.linspace(0,1,20)"
      ]
    },
    {
      "cell_type": "markdown",
      "metadata": {
        "id": "574PTK-iTCm4"
      },
      "source": [
        "## Индексация Numpy\n",
        "\n",
        "Здесь Вы будете работать с некоторой матрицей - чтобы создать её, запустите следующую ячейку! После этого мы попросим Вас воспроизвести несколько результатов работы с этой матрицей:"
      ]
    },
    {
      "cell_type": "code",
      "execution_count": null,
      "metadata": {
        "colab": {
          "base_uri": "https://localhost:8080/"
        },
        "id": "FHKkN02JTCm4",
        "outputId": "eed2a917-64c0-4010-8aa6-71a9bc463f5a"
      },
      "outputs": [
        {
          "output_type": "execute_result",
          "data": {
            "text/plain": [
              "array([[ 1,  2,  3,  4,  5],\n",
              "       [ 6,  7,  8,  9, 10],\n",
              "       [11, 12, 13, 14, 15],\n",
              "       [16, 17, 18, 19, 20],\n",
              "       [21, 22, 23, 24, 25]])"
            ]
          },
          "metadata": {},
          "execution_count": 16
        }
      ],
      "source": [
        "mat = np.arange(1,26).reshape(5,5)\n",
        "mat"
      ]
    },
    {
      "cell_type": "markdown",
      "metadata": {
        "id": "eiutqjI1TCm4"
      },
      "source": [
        "#### 13. Напишите код, который на основе матрицы mat выведет указанную ниже матрицу (подсказка - используйте индексацию)."
      ]
    },
    {
      "cell_type": "code",
      "execution_count": null,
      "metadata": {
        "colab": {
          "base_uri": "https://localhost:8080/"
        },
        "id": "4tCkd_-qTCm5",
        "outputId": "0fd3753e-9a8f-4691-aaab-2f5d350fe6c7"
      },
      "outputs": [
        {
          "output_type": "execute_result",
          "data": {
            "text/plain": [
              "array([[12, 13, 14, 15],\n",
              "       [17, 18, 19, 20],\n",
              "       [22, 23, 24, 25]])"
            ]
          },
          "metadata": {},
          "execution_count": 17
        }
      ],
      "source": [
        "\n",
        "mat[2:,1:]"
      ]
    },
    {
      "cell_type": "markdown",
      "metadata": {
        "id": "CtKdkAq2TCm5"
      },
      "source": [
        "#### 14. Напишите код, который на основе матрицы mat выведет указанную ниже матрицу."
      ]
    },
    {
      "cell_type": "code",
      "execution_count": null,
      "metadata": {
        "colab": {
          "base_uri": "https://localhost:8080/"
        },
        "id": "Ixf5Byo6TCm5",
        "outputId": "01e23cc8-eca5-4cd5-fba3-5678e95be48f"
      },
      "outputs": [
        {
          "output_type": "execute_result",
          "data": {
            "text/plain": [
              "np.int64(20)"
            ]
          },
          "metadata": {},
          "execution_count": 18
        }
      ],
      "source": [
        "mat[3,4]"
      ]
    },
    {
      "cell_type": "markdown",
      "metadata": {
        "id": "pL8ofUcNTCm5"
      },
      "source": [
        "#### 15. Напишите код, который на основе матрицы mat выведет указанную ниже матрицу."
      ]
    },
    {
      "cell_type": "code",
      "execution_count": null,
      "metadata": {
        "colab": {
          "base_uri": "https://localhost:8080/"
        },
        "id": "aVMhN0kgTCm5",
        "outputId": "0235e14b-1745-4ac8-82c5-588ac2d5f0a5"
      },
      "outputs": [
        {
          "output_type": "execute_result",
          "data": {
            "text/plain": [
              "array([[ 2],\n",
              "       [ 7],\n",
              "       [12]])"
            ]
          },
          "metadata": {},
          "execution_count": 19
        }
      ],
      "source": [
        "mat[:3,1:2]"
      ]
    },
    {
      "cell_type": "markdown",
      "metadata": {
        "id": "cITnWgvsTCm5"
      },
      "source": [
        "#### 16. Напишите код, который на основе матрицы mat выведет указанную ниже матрицу."
      ]
    },
    {
      "cell_type": "code",
      "execution_count": null,
      "metadata": {
        "colab": {
          "base_uri": "https://localhost:8080/"
        },
        "id": "F65KzESwTCm6",
        "outputId": "ae0d26b6-0a72-4c0d-d621-5e00ac94efcd"
      },
      "outputs": [
        {
          "output_type": "execute_result",
          "data": {
            "text/plain": [
              "array([21, 22, 23, 24, 25])"
            ]
          },
          "metadata": {},
          "execution_count": 20
        }
      ],
      "source": [
        "\n",
        "mat[4,:]"
      ]
    },
    {
      "cell_type": "markdown",
      "metadata": {
        "id": "lJO4CUQvTCm6"
      },
      "source": [
        "#### 17. Напишите код, который на основе матрицы mat выведет указанную ниже матрицу."
      ]
    },
    {
      "cell_type": "code",
      "execution_count": null,
      "metadata": {
        "colab": {
          "base_uri": "https://localhost:8080/"
        },
        "id": "BR-MvZXuTCm6",
        "outputId": "0de6afa7-ae20-4da1-e22d-09b433217d96"
      },
      "outputs": [
        {
          "output_type": "execute_result",
          "data": {
            "text/plain": [
              "array([[16, 17, 18, 19, 20],\n",
              "       [21, 22, 23, 24, 25]])"
            ]
          },
          "metadata": {},
          "execution_count": 21
        }
      ],
      "source": [
        "\n",
        "mat[3:5,:]"
      ]
    },
    {
      "cell_type": "markdown",
      "metadata": {
        "id": "qJXbbp8wTCm6"
      },
      "source": [
        "## Операции в NumPy"
      ]
    },
    {
      "cell_type": "markdown",
      "metadata": {
        "id": "vcFqOQ4GTCm6"
      },
      "source": [
        "#### 18. Найдите сумму всех чисел в матрице mat"
      ]
    },
    {
      "cell_type": "code",
      "execution_count": null,
      "metadata": {
        "colab": {
          "base_uri": "https://localhost:8080/"
        },
        "id": "VM8o7u1aTCm6",
        "outputId": "e80727fd-97b9-4ef1-c574-1f4f05367e81"
      },
      "outputs": [
        {
          "output_type": "execute_result",
          "data": {
            "text/plain": [
              "np.int64(325)"
            ]
          },
          "metadata": {},
          "execution_count": 22
        }
      ],
      "source": [
        "mat.sum()"
      ]
    },
    {
      "cell_type": "markdown",
      "metadata": {
        "id": "ygsseD3mTCm7"
      },
      "source": [
        "#### 19. Найдите среднеквадратичное отклонение значений в матрице mat"
      ]
    },
    {
      "cell_type": "code",
      "execution_count": null,
      "metadata": {
        "colab": {
          "base_uri": "https://localhost:8080/"
        },
        "id": "iMz_sO9OTCm7",
        "outputId": "9cefeb50-2d5c-4a98-aa76-f41ec1c79aff"
      },
      "outputs": [
        {
          "output_type": "execute_result",
          "data": {
            "text/plain": [
              "np.float64(7.211102550927978)"
            ]
          },
          "metadata": {},
          "execution_count": 23
        }
      ],
      "source": [
        "\n",
        "mat.std()"
      ]
    },
    {
      "cell_type": "markdown",
      "metadata": {
        "id": "PjxrW8ZQTCm7"
      },
      "source": [
        "#### 20. Найдите сумму каждой из колонок в матрице mat"
      ]
    },
    {
      "cell_type": "code",
      "execution_count": null,
      "metadata": {
        "colab": {
          "base_uri": "https://localhost:8080/"
        },
        "id": "-t4EWwaMTCm7",
        "outputId": "e9614ed0-c05b-47e8-bf9d-e53b437b2607"
      },
      "outputs": [
        {
          "output_type": "execute_result",
          "data": {
            "text/plain": [
              "array([55, 60, 65, 70, 75])"
            ]
          },
          "metadata": {},
          "execution_count": 24
        }
      ],
      "source": [
        "\n",
        "mat.sum(axis=0)"
      ]
    }
  ],
  "metadata": {
    "anaconda-cloud": {},
    "kernelspec": {
      "display_name": "Python 3",
      "language": "python",
      "name": "python3"
    },
    "language_info": {
      "codemirror_mode": {
        "name": "ipython",
        "version": 3
      },
      "file_extension": ".py",
      "mimetype": "text/x-python",
      "name": "python",
      "nbconvert_exporter": "python",
      "pygments_lexer": "ipython3",
      "version": "3.8.5"
    },
    "colab": {
      "provenance": [],
      "include_colab_link": true
    }
  },
  "nbformat": 4,
  "nbformat_minor": 0
}
